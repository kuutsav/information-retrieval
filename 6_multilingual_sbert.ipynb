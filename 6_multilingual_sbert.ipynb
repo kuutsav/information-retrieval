{
 "cells": [
  {
   "cell_type": "markdown",
   "metadata": {},
   "source": [
    "# Finetuning a multilingual SBERT model\n",
    "\n",
    "In this notebook we will fintetune a sentence BERT model to output similar sentences from multiple languages in the same vector space. We will closely follow the paper [Making Monolingual Sentence Embeddings Multilingual using\n",
    "Knowledge Distillation](https://arxiv.org/pdf/2004.09813.pdf) by Nils Reimers and Iryna Gurevych.\n",
    "\n",
    "We will use knowledge distillation to train a student model to mimic a monolingual teacher model which has been finetuned to produce good sentence embeddings. As long as we have parallel data in source and target language and a finetuned teacher model in either the source or target language, this technique can easily be used to extend the student models with relatively small amount of training data.\n",
    "\n",
    "| ![](assets/multilingual_sbert.png) | \n",
    "|:--:| \n",
    "| Fig. 1. Illustration of Multilingual SBERT knowledge distillation. (Image source: https://www.sbert.net/examples/training/multilingual/README.html) |\n",
    "<br>\n",
    "\n",
    "In the above figure, the student model should map `Hello World` and the German translation `Hallo Welt` to the vector of teacher model(`Hello World`). Authors recommend using Mean Squared Error loss for finetuning.\n",
    "\n",
    "Formally, for a `batch size B`, `teacher model M` and `student model Mhat` with parallel(translated) pairs of sentences `((s1, t1), (s2, t2), ... , (si, ti))` where `s` is the source language and `t` is the target language, the loss looks like\n",
    "\n",
    "$$ \\frac{1}{|B|} \\sum_{j\\in B} [(M(s_j) - \\hat{M}(s_j))^2 + (M(s_j) - \\hat{M}(t_j))^2] $$\n",
    "\n",
    "It's recommended to use an English SBERT model as the teacher and XLMRoBERTa as the student model. We are using a cross lingual model as the student to take advantage of it's multilingual vocabulary. XLM-R has a vocab size of 250k from 100 different languages."
   ]
  },
  {
   "cell_type": "code",
   "execution_count": 2,
   "metadata": {},
   "outputs": [],
   "source": [
    "import random\n",
    "from typing import Callable, Iterable\n",
    "\n",
    "import datasets\n",
    "import matplotlib\n",
    "import matplotlib.pyplot as plt\n",
    "import numpy as np\n",
    "import torch\n",
    "from torch.utils.data import Dataset, DataLoader, random_split\n",
    "from tqdm import tqdm\n",
    "from transformers import AutoTokenizer, AutoModel\n",
    "from transformers.optimization import get_linear_schedule_with_warmup\n",
    "from scipy import stats\n",
    "from sklearn.metrics.pairwise import cosine_similarity"
   ]
  },
  {
   "cell_type": "code",
   "execution_count": 3,
   "metadata": {},
   "outputs": [],
   "source": [
    "teacher_model_name = \"sentence-transformers/paraphrase-distilroberta-base-v2\"\n",
    "student_model_name = \"xlm-roberta-base\""
   ]
  },
  {
   "cell_type": "code",
   "execution_count": 4,
   "metadata": {},
   "outputs": [],
   "source": [
    "teacher_tokenizer = AutoTokenizer.from_pretrained(teacher_model_name)\n",
    "student_tokenizer = AutoTokenizer.from_pretrained(student_model_name)"
   ]
  },
  {
   "cell_type": "code",
   "execution_count": 5,
   "metadata": {},
   "outputs": [],
   "source": [
    "corpus = [\n",
    "    \"The roads on the highway were bad.\",\n",
    "    \"My car broke down last night\",\n",
    "    \"किसने कुत्तों को खुला छोड़ा\",\n",
    "    \"Where are my dogs?\",\n",
    "    \"Are the dogs outside?\",\n",
    "    \"मेरी कार टूट गई\",\n",
    "    \"मेरी कार हाईवे पर खराब हो गई\",\n",
    "    \"I wonder if they have reached home\",\n",
    "    \"मुझे आश्चर्य है कि क्या वे घर पहुंच गए हैं\"\n",
    "]"
   ]
  },
  {
   "cell_type": "code",
   "execution_count": 6,
   "metadata": {},
   "outputs": [
    {
     "name": "stdout",
     "output_type": "stream",
     "text": [
      "['The', 'Ġroads', 'Ġon', 'Ġthe', 'Ġhighway', 'Ġwere', 'Ġbad', '.']\n",
      "['My', 'Ġcar', 'Ġbroke', 'Ġdown', 'Ġlast', 'Ġnight']\n",
      "['à¤', 'ķ', 'à¤', '¿', 'à¤', '¸', 'à¤', '¨', 'à¥', 'ĩ', 'Ġà¤', 'ķ', 'à¥', 'ģ', 'à¤', '¤', 'à¥', 'į', 'à¤', '¤', 'à¥', 'ĭ', 'à¤', 'Ĥ', 'Ġà¤', 'ķ', 'à¥', 'ĭ', 'Ġà¤', 'ĸ', 'à¥', 'ģ', 'à¤', '²', 'à¤¾', 'Ġà¤', 'Ľ', 'à¥', 'ĭ', 'à¤', '¡', 'à¤', '¼', 'à¤¾']\n",
      "['Where', 'Ġare', 'Ġmy', 'Ġdogs', '?']\n",
      "['Are', 'Ġthe', 'Ġdogs', 'Ġoutside', '?']\n",
      "['à¤', '®', 'à¥', 'ĩ', 'à¤', '°', 'à¥', 'Ģ', 'Ġà¤', 'ķ', 'à¤¾', 'à¤', '°', 'Ġà¤', 'Ł', 'à¥', 'Ĥ', 'à¤', 'Ł', 'Ġà¤', 'Ĺ', 'à¤', 'Ī']\n",
      "['à¤', '®', 'à¥', 'ĩ', 'à¤', '°', 'à¥', 'Ģ', 'Ġà¤', 'ķ', 'à¤¾', 'à¤', '°', 'Ġà¤', '¹', 'à¤¾', 'à¤', 'Ī', 'à¤', 'µ', 'à¥', 'ĩ', 'Ġà¤', 'ª', 'à¤', '°', 'Ġà¤', 'ĸ', 'à¤', '°', 'à¤¾', 'à¤', '¬', 'Ġà¤', '¹', 'à¥', 'ĭ', 'Ġà¤', 'Ĺ', 'à¤', 'Ī']\n",
      "['I', 'Ġwonder', 'Ġif', 'Ġthey', 'Ġhave', 'Ġreached', 'Ġhome']\n",
      "['à¤', '®', 'à¥', 'ģ', 'à¤', 'Ŀ', 'à¥', 'ĩ', 'Ġà¤', 'Ĩ', 'à¤', '¶', 'à¥', 'į', 'à¤', 'ļ', 'à¤', '°', 'à¥', 'į', 'à¤', '¯', 'Ġà¤', '¹', 'à¥', 'Ī', 'Ġà¤', 'ķ', 'à¤', '¿', 'Ġà¤', 'ķ', 'à¥', 'į', 'à¤', '¯', 'à¤¾', 'Ġà¤', 'µ', 'à¥', 'ĩ', 'Ġà¤', 'ĺ', 'à¤', '°', 'Ġà¤', 'ª', 'à¤', '¹', 'à¥', 'ģ', 'à¤', 'Ĥ', 'à¤', 'ļ', 'Ġà¤', 'Ĺ', 'à¤', 'ı', 'Ġà¤', '¹', 'à¥', 'Ī', 'à¤', 'Ĥ']\n"
     ]
    }
   ],
   "source": [
    "for text in corpus:\n",
    "    print(teacher_tokenizer.tokenize(text))"
   ]
  },
  {
   "cell_type": "code",
   "execution_count": 7,
   "metadata": {},
   "outputs": [
    {
     "name": "stdout",
     "output_type": "stream",
     "text": [
      "['▁The', '▁road', 's', '▁on', '▁the', '▁high', 'way', '▁were', '▁bad', '.']\n",
      "['▁My', '▁car', '▁bro', 'ke', '▁down', '▁last', '▁night']\n",
      "['▁किस', 'ने', '▁कु', 'त्त', 'ों', '▁को', '▁खुला', '▁छोड़', 'ा']\n",
      "['▁Where', '▁are', '▁my', '▁dog', 's', '?']\n",
      "['▁Are', '▁the', '▁dog', 's', '▁outside', '?']\n",
      "['▁मेरी', '▁कार', '▁टूट', '▁गई']\n",
      "['▁मेरी', '▁कार', '▁हाई', 'वे', '▁पर', '▁खराब', '▁हो', '▁गई']\n",
      "['▁I', '▁wonder', '▁if', '▁they', '▁have', '▁reached', '▁home']\n",
      "['▁मुझे', '▁आश्चर्य', '▁है', '▁कि', '▁क्या', '▁वे', '▁घर', '▁पहुंच', '▁गए', '▁हैं']\n"
     ]
    }
   ],
   "source": [
    "for text in corpus:\n",
    "    print(student_tokenizer.tokenize(text))"
   ]
  },
  {
   "cell_type": "markdown",
   "metadata": {},
   "source": [
    "We can clearly see that the teacher model with just the english vocabulary does a very bad job in tokenizing texts in hindi. The hindi text has been broken down into individual characters which is hardly useful for representation purposes.\n",
    "\n",
    "The XLM-R model on the other hand does a great job in tokenizing both the hindi and english texts. It's clear that common hindi tokens are present in it's vocab."
   ]
  },
  {
   "cell_type": "code",
   "execution_count": 8,
   "metadata": {},
   "outputs": [],
   "source": [
    "seed = 10\n",
    "\n",
    "random.seed(seed)\n",
    "np.random.seed(seed)\n",
    "\n",
    "torch.manual_seed(seed)\n",
    "torch.cuda.manual_seed_all(seed)\n",
    "\n",
    "torch.backends.cudnn.deterministic = True\n",
    "torch.backends.cudnn.benchmark = False"
   ]
  },
  {
   "cell_type": "markdown",
   "metadata": {},
   "source": [
    "## Data preparation\n",
    "\n",
    "Note that we will be using relatively small dataset here as we need to fit two models in gpu memory hence limiting our batch size hence leading to much larger training times on a single GPU(3080 in my case)."
   ]
  },
  {
   "cell_type": "code",
   "execution_count": 9,
   "metadata": {},
   "outputs": [],
   "source": [
    "def is_valid_len(d):\n",
    "    d = d[\"translation\"]\n",
    "    return len(d[\"en\"]) > 30 and len(d[\"en\"]) < 64 and len(d[\"hi\"]) > 20 and len(d[\"hi\"]) < 64"
   ]
  },
  {
   "cell_type": "code",
   "execution_count": 10,
   "metadata": {},
   "outputs": [
    {
     "name": "stderr",
     "output_type": "stream",
     "text": [
      "Using custom data configuration cfilt--iitb-english-hindi-911387c6837f8b91\n",
      "Reusing dataset parquet (/home/utsav/.cache/huggingface/datasets/cfilt___parquet/cfilt--iitb-english-hindi-911387c6837f8b91/0.0.0/7328ef7ee03eaf3f86ae40594d46a1cec86161704e02dd19f232d81eee72ade8)\n",
      "Parameter 'function'=<function <lambda> at 0x7fa196bc6ca0> of the transform datasets.arrow_dataset.Dataset.filter@2.0.1 couldn't be hashed properly, a random hash was used instead. Make sure your transforms and parameters are serializable with pickle or dill for the dataset fingerprinting and caching to work. If you reuse this transform, the caching mechanism will consider it to be different from the previous calls and recompute everything. This warning is only showed once. Subsequent hashing failures won't be showed.\n",
      "Loading cached processed dataset at /home/utsav/.cache/huggingface/datasets/cfilt___parquet/cfilt--iitb-english-hindi-911387c6837f8b91/0.0.0/7328ef7ee03eaf3f86ae40594d46a1cec86161704e02dd19f232d81eee72ade8/cache-08577eb1924770d3.arrow\n"
     ]
    },
    {
     "data": {
      "text/plain": [
       "(133571,\n",
       " {'translation': {'en': 'The default plugin layout for the top panel',\n",
       "   'hi': 'ऊपरी पटल के लिए डिफोल्ट प्लग-इन खाका'}})"
      ]
     },
     "execution_count": 10,
     "metadata": {},
     "output_type": "execute_result"
    }
   ],
   "source": [
    "dataset = datasets.load_dataset(\"cfilt/iitb-english-hindi\", split=\"train\")\n",
    "\n",
    "dataset = dataset.filter(lambda x: True if is_valid_len(x) and (random.random() > 0.9) else False)\n",
    "\n",
    "len(dataset), dataset[0]"
   ]
  },
  {
   "cell_type": "code",
   "execution_count": 11,
   "metadata": {},
   "outputs": [
    {
     "name": "stdout",
     "output_type": "stream",
     "text": [
      "CPU times: user 1min 1s, sys: 8.44 s, total: 1min 9s\n",
      "Wall time: 34.4 s\n"
     ]
    }
   ],
   "source": [
    "%%time\n",
    "\n",
    "teacher_tokenized_en = teacher_tokenizer([data[\"translation\"][\"en\"] for data in dataset],\n",
    "                                         max_length=64, padding=\"max_length\",\n",
    "                                         truncation=True, verbose=True)\n",
    "\n",
    "student_tokenized_en = student_tokenizer([data[\"translation\"][\"en\"] for data in dataset],\n",
    "                                         max_length=64, padding=\"max_length\",\n",
    "                                         truncation=True, verbose=True)\n",
    "\n",
    "student_tokenized_hi = student_tokenizer([data[\"translation\"][\"hi\"] for data in dataset],\n",
    "                                         max_length=64, padding=\"max_length\",\n",
    "                                         truncation=True, verbose=True)"
   ]
  },
  {
   "cell_type": "markdown",
   "metadata": {},
   "source": [
    "Now we will create out custom dataset and dataloaders with train/validation split for training."
   ]
  },
  {
   "cell_type": "code",
   "execution_count": 12,
   "metadata": {},
   "outputs": [],
   "source": [
    "class EnHiDataset:\n",
    "    def __init__(\n",
    "        self, teacher_en_tokens: dict, student_en_tokens: dict, student_hi_tokens: dict\n",
    "    ):\n",
    "        self.teacher_en_tokens = teacher_en_tokens\n",
    "        self.student_en_tokens = student_en_tokens\n",
    "        self.student_hi_tokens = student_hi_tokens\n",
    "\n",
    "    def __getitem__(self, ix: int) -> dict[str, torch.tensor]:\n",
    "        return {\n",
    "            \"teacher_en_input_ids\": torch.tensor(\n",
    "                self.teacher_en_tokens[\"input_ids\"][ix], dtype=torch.long\n",
    "            ),\n",
    "            \"teacher_en_attention_mask\": torch.tensor(\n",
    "                self.teacher_en_tokens[\"attention_mask\"][ix], dtype=torch.long\n",
    "            ),\n",
    "            \"student_en_input_ids\": torch.tensor(\n",
    "                self.student_en_tokens[\"input_ids\"][ix], dtype=torch.long\n",
    "            ),\n",
    "            \"student_en_attention_mask\": torch.tensor(\n",
    "                self.student_en_tokens[\"attention_mask\"][ix], dtype=torch.long\n",
    "            ),\n",
    "            \"student_hi_input_ids\": torch.tensor(\n",
    "                self.student_hi_tokens[\"input_ids\"][ix], dtype=torch.long\n",
    "            ),\n",
    "            \"student_hi_attention_mask\": torch.tensor(\n",
    "                self.student_hi_tokens[\"attention_mask\"][ix], dtype=torch.long\n",
    "            )\n",
    "        }\n",
    "\n",
    "    def __len__(self) -> int:\n",
    "        return len(self.teacher_en_tokens[\"input_ids\"])"
   ]
  },
  {
   "cell_type": "code",
   "execution_count": 13,
   "metadata": {},
   "outputs": [
    {
     "name": "stdout",
     "output_type": "stream",
     "text": [
      "CPU times: user 0 ns, sys: 6.19 ms, total: 6.19 ms\n",
      "Wall time: 6.18 ms\n"
     ]
    }
   ],
   "source": [
    "%%time\n",
    "\n",
    "dataset = EnHiDataset(teacher_tokenized_en, student_tokenized_en, student_tokenized_hi)"
   ]
  },
  {
   "cell_type": "code",
   "execution_count": 14,
   "metadata": {},
   "outputs": [
    {
     "data": {
      "text/plain": [
       "133571"
      ]
     },
     "execution_count": 14,
     "metadata": {},
     "output_type": "execute_result"
    }
   ],
   "source": [
    "len(dataset)"
   ]
  },
  {
   "cell_type": "code",
   "execution_count": 15,
   "metadata": {},
   "outputs": [],
   "source": [
    "train_ratio = 0.8\n",
    "n_total = len(dataset)\n",
    "n_train = int(n_total * train_ratio)\n",
    "n_val = n_total - n_train\n",
    "\n",
    "train_dataset, val_dataset = random_split(dataset, [n_train, n_val])\n",
    "\n",
    "batch_size = 2\n",
    "train_dataloader = DataLoader(train_dataset, batch_size=batch_size, shuffle=True)\n",
    "val_dataloader = DataLoader(val_dataset, batch_size=batch_size, shuffle=False)"
   ]
  },
  {
   "cell_type": "markdown",
   "metadata": {},
   "source": [
    "## Model config"
   ]
  },
  {
   "cell_type": "code",
   "execution_count": 15,
   "metadata": {},
   "outputs": [
    {
     "data": {
      "text/plain": [
       "'cuda'"
      ]
     },
     "execution_count": 15,
     "metadata": {},
     "output_type": "execute_result"
    }
   ],
   "source": [
    "device = \"cuda\" if torch.cuda.is_available() else \"cpu\"\n",
    "device"
   ]
  },
  {
   "cell_type": "markdown",
   "metadata": {},
   "source": [
    "The method `mean_pool()` implements the mean token pooling strategy mentioned in the paper. The implementation has been picked up from the `sentence_transformers` library."
   ]
  },
  {
   "cell_type": "code",
   "execution_count": 16,
   "metadata": {},
   "outputs": [],
   "source": [
    "def mean_pool(token_embeds: torch.tensor, attention_mask: torch.tensor) -> torch.tensor:\n",
    "    in_mask = attention_mask.unsqueeze(-1).expand(token_embeds.size()).float()\n",
    "    pool = torch.sum(token_embeds * in_mask, 1) / torch.clamp(in_mask.sum(1), min=1e-9)\n",
    "    return pool"
   ]
  },
  {
   "cell_type": "code",
   "execution_count": 17,
   "metadata": {},
   "outputs": [
    {
     "name": "stderr",
     "output_type": "stream",
     "text": [
      "Some weights of the model checkpoint at xlm-roberta-base were not used when initializing XLMRobertaModel: ['lm_head.layer_norm.bias', 'lm_head.bias', 'lm_head.layer_norm.weight', 'lm_head.dense.bias', 'lm_head.dense.weight', 'lm_head.decoder.weight']\n",
      "- This IS expected if you are initializing XLMRobertaModel from the checkpoint of a model trained on another task or with another architecture (e.g. initializing a BertForSequenceClassification model from a BertForPreTraining model).\n",
      "- This IS NOT expected if you are initializing XLMRobertaModel from the checkpoint of a model that you expect to be exactly identical (initializing a BertForSequenceClassification model from a BertForSequenceClassification model).\n"
     ]
    }
   ],
   "source": [
    "teacher_model = AutoModel.from_pretrained(teacher_model_name).to(device)\n",
    "student_model = AutoModel.from_pretrained(student_model_name).to(device)"
   ]
  },
  {
   "cell_type": "code",
   "execution_count": 18,
   "metadata": {},
   "outputs": [],
   "source": [
    "#  optimizer, lr, num_warmup steps have been picked from the paper\n",
    "optimizer = torch.optim.Adam(student_model.parameters(), lr=2e-5)\n",
    "total_steps = len(train_dataset) // batch_size\n",
    "warmup_steps = int(0.1 * total_steps)\n",
    "scheduler = get_linear_schedule_with_warmup(optimizer, num_warmup_steps=warmup_steps,\n",
    "                                            num_training_steps=total_steps - warmup_steps)\n",
    "\n",
    "loss_fn = torch.nn.MSELoss()"
   ]
  },
  {
   "cell_type": "markdown",
   "metadata": {},
   "source": [
    "## Training loop"
   ]
  },
  {
   "cell_type": "code",
   "execution_count": 19,
   "metadata": {},
   "outputs": [],
   "source": [
    "def get_train_step_fn(\n",
    "    teacher_model: torch.nn.Module, student_model: torch.nn.Module,\n",
    "    optimizer: torch.optim.Optimizer, scheduler: torch.optim.lr_scheduler.LambdaLR,\n",
    "    loss_fn: torch.nn.CrossEntropyLoss\n",
    ") -> Callable[[torch.tensor], float]:\n",
    "\n",
    "    def train_step_fn(d: torch.tensor) -> float:\n",
    "        student_model.train()\n",
    "\n",
    "        teacher_model_out = teacher_model(\n",
    "            d[\"teacher_en_input_ids\"].to(device), d[\"teacher_en_attention_mask\"].to(device)\n",
    "        )\n",
    "        teacher_en_pooled = mean_pool(\n",
    "            teacher_model_out.last_hidden_state, d[\"teacher_en_attention_mask\"].to(device)\n",
    "        )\n",
    "\n",
    "        student_en_model_out = student_model(\n",
    "            d[\"student_en_input_ids\"].to(device), d[\"student_en_attention_mask\"].to(device)\n",
    "        )\n",
    "        student_hi_model_out = student_model(\n",
    "            d[\"student_hi_input_ids\"].to(device), d[\"student_hi_attention_mask\"].to(device)\n",
    "        )\n",
    "        student_en_pooled = mean_pool(\n",
    "            student_en_model_out.last_hidden_state, d[\"student_en_attention_mask\"].to(device)\n",
    "        )\n",
    "        student_hi_pooled = mean_pool(\n",
    "            student_hi_model_out.last_hidden_state, d[\"student_hi_attention_mask\"].to(device)\n",
    "        )\n",
    "        \n",
    "        loss = (loss_fn(student_en_pooled, teacher_en_pooled) +\n",
    "                loss_fn(student_hi_pooled, teacher_en_pooled)) / 2\n",
    "\n",
    "        loss.backward()\n",
    "        optimizer.step()\n",
    "        scheduler.step()\n",
    "        optimizer.zero_grad()\n",
    "        return loss.item()\n",
    "\n",
    "    return train_step_fn\n",
    "\n",
    "\n",
    "def get_val_step_fn(\n",
    "    teacher_model: torch.nn.Module, student_model: torch.nn.Module,\n",
    "    loss_fn: torch.nn.CrossEntropyLoss\n",
    ") -> Callable[[torch.tensor], float]:\n",
    "\n",
    "    def val_step_fn(d: torch.tensor) -> float:\n",
    "        student_model.eval()\n",
    "\n",
    "        teacher_model_out = teacher_model(\n",
    "            d[\"teacher_en_input_ids\"].to(device), d[\"teacher_en_attention_mask\"].to(device)\n",
    "        )\n",
    "        teacher_en_pooled = mean_pool(\n",
    "            teacher_model_out.last_hidden_state, d[\"teacher_en_attention_mask\"].to(device)\n",
    "        )\n",
    "\n",
    "        student_en_model_out = student_model(\n",
    "            d[\"student_en_input_ids\"].to(device), d[\"student_en_attention_mask\"].to(device)\n",
    "        )\n",
    "        student_hi_model_out = student_model(\n",
    "            d[\"student_hi_input_ids\"].to(device), d[\"student_hi_attention_mask\"].to(device)\n",
    "        )\n",
    "        student_en_pooled = mean_pool(\n",
    "            student_en_model_out.last_hidden_state, d[\"student_en_attention_mask\"].to(device)\n",
    "        )\n",
    "        student_hi_pooled = mean_pool(\n",
    "            student_hi_model_out.last_hidden_state, d[\"student_hi_attention_mask\"].to(device)\n",
    "        )\n",
    "        \n",
    "        loss = (loss_fn(student_en_pooled, teacher_en_pooled) +\n",
    "                loss_fn(student_hi_pooled, teacher_en_pooled)) / 2\n",
    "\n",
    "        return loss.item()\n",
    "\n",
    "    return val_step_fn\n",
    "\n",
    "\n",
    "def mini_batch(\n",
    "    dataloader: DataLoader,\n",
    "    step_fn: Callable[[torch.tensor], float],\n",
    "    is_training: bool = True\n",
    ") -> tuple[np.array, list[float]]:\n",
    "\n",
    "    mini_batch_losses = []\n",
    "\n",
    "    if is_training:\n",
    "        print(\"\\nTraining ...\")\n",
    "    else:\n",
    "        print(\"\\nValidating ...\")\n",
    "    n_steps = len(dataloader)\n",
    "    for i, data in enumerate(dataloader):\n",
    "        loss = step_fn(data)\n",
    "        mini_batch_losses.append(loss)\n",
    "        if i % (batch_size * 1000) == 0:\n",
    "            print(f\"step {i:>5}/{n_steps}, loss = {loss: .3f}\")\n",
    "\n",
    "    return np.mean(mini_batch_losses), mini_batch_losses"
   ]
  },
  {
   "cell_type": "code",
   "execution_count": 20,
   "metadata": {
    "scrolled": false
   },
   "outputs": [
    {
     "name": "stdout",
     "output_type": "stream",
     "text": [
      "\n",
      "Training ...\n",
      "step     0/53428, loss =  0.683\n",
      "step  2000/53428, loss =  0.303\n",
      "step  4000/53428, loss =  0.331\n",
      "step  6000/53428, loss =  0.281\n",
      "step  8000/53428, loss =  0.258\n",
      "step 10000/53428, loss =  0.246\n",
      "step 12000/53428, loss =  0.259\n",
      "step 14000/53428, loss =  0.235\n",
      "step 16000/53428, loss =  0.327\n",
      "step 18000/53428, loss =  0.180\n",
      "step 20000/53428, loss =  0.129\n",
      "step 22000/53428, loss =  0.144\n",
      "step 24000/53428, loss =  0.167\n",
      "step 26000/53428, loss =  0.209\n",
      "step 28000/53428, loss =  0.140\n",
      "step 30000/53428, loss =  0.187\n",
      "step 32000/53428, loss =  0.167\n",
      "step 34000/53428, loss =  0.173\n",
      "step 36000/53428, loss =  0.149\n",
      "step 38000/53428, loss =  0.176\n",
      "step 40000/53428, loss =  0.189\n",
      "step 42000/53428, loss =  0.170\n",
      "step 44000/53428, loss =  0.240\n",
      "step 46000/53428, loss =  0.191\n",
      "step 48000/53428, loss =  0.201\n",
      "step 50000/53428, loss =  0.157\n",
      "step 52000/53428, loss =  0.116\n",
      "\n",
      "Validating ...\n",
      "step     0/13358, loss =  0.200\n",
      "step  2000/13358, loss =  0.198\n",
      "step  4000/13358, loss =  0.241\n",
      "step  6000/13358, loss =  0.177\n",
      "step  8000/13358, loss =  0.175\n",
      "step 10000/13358, loss =  0.190\n",
      "step 12000/13358, loss =  0.155\n",
      "CPU times: user 1h 9min 30s, sys: 12min 53s, total: 1h 22min 24s\n",
      "Wall time: 1h 22min 20s\n"
     ]
    }
   ],
   "source": [
    "%%time\n",
    "\n",
    "n_epochs = 1\n",
    "\n",
    "train_step_fn = get_train_step_fn(teacher_model, student_model, optimizer, scheduler, loss_fn)\n",
    "val_step_fn = get_val_step_fn(teacher_model, student_model, loss_fn)\n",
    "\n",
    "train_losses, train_mini_batch_losses = [], []\n",
    "val_losses, val_mini_batch_losses = [], []\n",
    "\n",
    "for epoch in range(1, n_epochs + 1):\n",
    "    train_loss, _train_mini_batch_losses = mini_batch(train_dataloader, train_step_fn)\n",
    "    train_mini_batch_losses += _train_mini_batch_losses\n",
    "    train_losses.append(train_loss)\n",
    "\n",
    "    with torch.no_grad():\n",
    "        val_loss, _val_mini_batch_losses = mini_batch(val_dataloader, val_step_fn, is_training=False)\n",
    "        val_mini_batch_losses += _val_mini_batch_losses\n",
    "        val_losses.append(val_loss)"
   ]
  },
  {
   "cell_type": "code",
   "execution_count": 22,
   "metadata": {},
   "outputs": [
    {
     "data": {
      "text/plain": [
       "([0.19776925913485568], [0.15786257060084322])"
      ]
     },
     "execution_count": 22,
     "metadata": {},
     "output_type": "execute_result"
    }
   ],
   "source": [
    "train_losses, val_losses"
   ]
  },
  {
   "cell_type": "code",
   "execution_count": 23,
   "metadata": {},
   "outputs": [],
   "source": [
    "student_model.save_pretrained(\"models/student_multi_enhi\")"
   ]
  },
  {
   "cell_type": "markdown",
   "metadata": {},
   "source": [
    "Normally we look at losses over multiple epochs, but here we have only 1 epoch. One way to look at the mini batch losses is to use a running mean(smoothing) to reduce noise from per batch loss."
   ]
  },
  {
   "cell_type": "code",
   "execution_count": 24,
   "metadata": {},
   "outputs": [],
   "source": [
    "window_size = 32\n",
    "\n",
    "train_mb_running_loss = []\n",
    "for i in range(len(train_mini_batch_losses)-window_size):\n",
    "    train_mb_running_loss.append(np.mean(train_mini_batch_losses[i:i+window_size]))\n",
    "\n",
    "val_mb_running_loss = []\n",
    "for i in range(len(val_mini_batch_losses)-window_size):\n",
    "    val_mb_running_loss.append(np.mean(val_mini_batch_losses[i:i+window_size]))"
   ]
  },
  {
   "cell_type": "code",
   "execution_count": 41,
   "metadata": {},
   "outputs": [
    {
     "data": {
      "text/plain": [
       "<matplotlib.legend.Legend at 0x7fdff3e8d3d0>"
      ]
     },
     "execution_count": 41,
     "metadata": {},
     "output_type": "execute_result"
    },
    {
     "data": {
      "image/png": "[encoded data removed]",
      "text/plain": [
       "<Figure size 1008x720 with 1 Axes>"
      ]
     },
     "metadata": {
      "needs_background": "light"
     },
     "output_type": "display_data"
    }
   ],
   "source": [
    "fix, ax = plt.subplots(figsize=(14, 10))\n",
    "n_train_losses = len(train_mb_running_loss)\n",
    "ax.plot(range(n_train_losses), train_mb_running_loss, label=\"training losses\");\n",
    "ax.plot(range(n_train_losses-len(val_mb_running_loss), n_train_losses),\n",
    "        val_mb_running_loss, c=\"r\", alpha=0.5, label=\"validation losses\")\n",
    "ax.legend();"
   ]
  },
  {
   "cell_type": "markdown",
   "metadata": {},
   "source": [
    "## Evaluation "
   ]
  },
  {
   "cell_type": "code",
   "execution_count": 26,
   "metadata": {},
   "outputs": [],
   "source": [
    "def get_ranked_docs(\n",
    "    tokenizer: AutoTokenizer, model: AutoModel, device: str, query: str, corpus: list[str]\n",
    ") -> None:\n",
    "    \n",
    "    query_embed = mean_pool(model(**tokenizer(query, return_tensors=\"pt\").to(device)).last_hidden_state,\n",
    "                            tokenizer(query, return_tensors=\"pt\")[\"attention_mask\"].to(device))\n",
    "\n",
    "    corpus_last_hidden_state = model(\n",
    "        **tokenizer(corpus, max_length=64, padding=True, truncation=True, return_tensors=\"pt\").to(device)\n",
    "    ).last_hidden_state\n",
    "\n",
    "    corpus_embeds = mean_pool(\n",
    "        corpus_last_hidden_state,\n",
    "        tokenizer(corpus, max_length=64, padding=True,truncation=True, return_tensors=\"pt\")[\"attention_mask\"].to(device)\n",
    "    )\n",
    "\n",
    "    scores = torch.nn.CosineSimilarity()(query_embed, corpus_embeds)\n",
    "    \n",
    "    print(f\"Query - {query}\\n---\")\n",
    "    scores = scores.cpu().detach().numpy()\n",
    "    scores_ix = np.argsort(scores)[::-1]\n",
    "    for ix in scores_ix:\n",
    "        print(f\"{scores[ix]: >.2f}\\t{corpus[ix]}\")"
   ]
  },
  {
   "cell_type": "markdown",
   "metadata": {},
   "source": [
    "We will load the original student model again to compare it's performance with the finetuned model."
   ]
  },
  {
   "cell_type": "code",
   "execution_count": 27,
   "metadata": {},
   "outputs": [
    {
     "name": "stderr",
     "output_type": "stream",
     "text": [
      "Some weights of the model checkpoint at xlm-roberta-base were not used when initializing XLMRobertaModel: ['lm_head.layer_norm.bias', 'lm_head.bias', 'lm_head.layer_norm.weight', 'lm_head.dense.bias', 'lm_head.dense.weight', 'lm_head.decoder.weight']\n",
      "- This IS expected if you are initializing XLMRobertaModel from the checkpoint of a model trained on another task or with another architecture (e.g. initializing a BertForSequenceClassification model from a BertForPreTraining model).\n",
      "- This IS NOT expected if you are initializing XLMRobertaModel from the checkpoint of a model that you expect to be exactly identical (initializing a BertForSequenceClassification model from a BertForSequenceClassification model).\n"
     ]
    }
   ],
   "source": [
    "original_student_model = AutoModel.from_pretrained(student_model_name)"
   ]
  },
  {
   "cell_type": "code",
   "execution_count": 28,
   "metadata": {},
   "outputs": [],
   "source": [
    "query = \"Who let the dogs out\"\n",
    "\n",
    "corpus = [\n",
    "    \"A frog jumped in the pond\",\n",
    "    \"My car broke down last night\",\n",
    "    \"किसने कुत्तों को खुला छोड़ा\",\n",
    "    \"Where are my dogs?\",\n",
    "    \"Are the dogs outside?\",\n",
    "    \"मेरी कार टूट गई\",\n",
    "    \"I wonder if they have reached home\",\n",
    "    \"मुझे आश्चर्य है कि क्या वे घर पहुंच गए हैं\"\n",
    "]"
   ]
  },
  {
   "cell_type": "code",
   "execution_count": 29,
   "metadata": {},
   "outputs": [
    {
     "name": "stdout",
     "output_type": "stream",
     "text": [
      "Query - Who let the dogs out\n",
      "---\n",
      "0.84\tकिसने कुत्तों को खुला छोड़ा\n",
      "0.67\tAre the dogs outside?\n",
      "0.63\tWhere are my dogs?\n",
      "0.40\tA frog jumped in the pond\n",
      "0.39\tमुझे आश्चर्य है कि क्या वे घर पहुंच गए हैं\n",
      "0.38\tI wonder if they have reached home\n",
      "0.17\tमेरी कार टूट गई\n",
      "0.13\tMy car broke down last night\n"
     ]
    }
   ],
   "source": [
    "get_ranked_docs(student_tokenizer, student_model, \"cuda\", query, corpus)"
   ]
  },
  {
   "cell_type": "code",
   "execution_count": 30,
   "metadata": {},
   "outputs": [
    {
     "name": "stdout",
     "output_type": "stream",
     "text": [
      "Query - Who let the dogs out\n",
      "---\n",
      "1.00\tAre the dogs outside?\n",
      "1.00\tI wonder if they have reached home\n",
      "1.00\tA frog jumped in the pond\n",
      "1.00\tWhere are my dogs?\n",
      "1.00\tMy car broke down last night\n",
      "1.00\tमेरी कार टूट गई\n",
      "1.00\tकिसने कुत्तों को खुला छोड़ा\n",
      "0.99\tमुझे आश्चर्य है कि क्या वे घर पहुंच गए हैं\n"
     ]
    }
   ],
   "source": [
    "get_ranked_docs(student_tokenizer, original_student_model, \"cpu\", query, corpus)"
   ]
  },
  {
   "cell_type": "code",
   "execution_count": 31,
   "metadata": {},
   "outputs": [],
   "source": [
    "query = \"My car broke down on the highway\"\n",
    "\n",
    "corpus = [\n",
    "    \"The roads on the highway were bad.\",\n",
    "    \"My car broke down last night\",\n",
    "    \"किसने कुत्तों को खुला छोड़ा\",\n",
    "    \"Where are my dogs?\",\n",
    "    \"Are the dogs outside?\",\n",
    "    \"मेरी कार टूट गई\",\n",
    "    \"मेरी कार हाईवे पर खराब हो गई\",\n",
    "    \"I wonder if they have reached home\",\n",
    "    \"मुझे आश्चर्य है कि क्या वे घर पहुंच गए हैं\"\n",
    "]"
   ]
  },
  {
   "cell_type": "code",
   "execution_count": 32,
   "metadata": {},
   "outputs": [
    {
     "name": "stdout",
     "output_type": "stream",
     "text": [
      "Query - My car broke down on the highway\n",
      "---\n",
      "0.94\tमेरी कार हाईवे पर खराब हो गई\n",
      "0.93\tMy car broke down last night\n",
      "0.93\tमेरी कार टूट गई\n",
      "0.68\tThe roads on the highway were bad.\n",
      "0.14\tI wonder if they have reached home\n",
      "0.12\tWhere are my dogs?\n",
      "0.08\tमुझे आश्चर्य है कि क्या वे घर पहुंच गए हैं\n",
      "0.06\tAre the dogs outside?\n",
      "0.06\tकिसने कुत्तों को खुला छोड़ा\n"
     ]
    }
   ],
   "source": [
    "get_ranked_docs(student_tokenizer, student_model, \"cuda\", query, corpus)"
   ]
  },
  {
   "cell_type": "code",
   "execution_count": 33,
   "metadata": {},
   "outputs": [
    {
     "name": "stdout",
     "output_type": "stream",
     "text": [
      "Query - My car broke down on the highway\n",
      "---\n",
      "1.00\tThe roads on the highway were bad.\n",
      "1.00\tMy car broke down last night\n",
      "1.00\tमेरी कार हाईवे पर खराब हो गई\n",
      "1.00\tमुझे आश्चर्य है कि क्या वे घर पहुंच गए हैं\n",
      "1.00\tI wonder if they have reached home\n",
      "1.00\tAre the dogs outside?\n",
      "0.99\tकिसने कुत्तों को खुला छोड़ा\n",
      "0.99\tWhere are my dogs?\n",
      "0.99\tमेरी कार टूट गई\n"
     ]
    }
   ],
   "source": [
    "get_ranked_docs(student_tokenizer, original_student_model, \"cpu\", query, corpus)"
   ]
  },
  {
   "cell_type": "markdown",
   "metadata": {},
   "source": [
    "Our finetuned model is doing a great job in retrieving the most relevant documents from the corpus, both in english and hindi. The bert-base model is scoring all the documents exactly the same. Here are the hi-en translations for those who don't have access to internet.\n",
    "\n",
    "- किसने कुत्तों को खुला छोड़ा - Who let the dogs out\n",
    "- मेरी कार हाईवे पर खराब हो गई - My car broke down on the highway\n",
    "- मेरी कार टूट गई - My car broke down\n",
    "- मुझे आश्चर्य है कि क्या वे घर पहुंच गए हैं - I wonder if they've reached home\n",
    "\n",
    "I could not find any STS dataset between en-hi to evaluate this model effectively. \n",
    "\n",
    "---\n",
    "\n",
    "## References\n",
    "\n",
    "[1] Nils Reimers and Iryna Gurevych. \"[Making Monolingual Sentence Embeddings Multilingual using Knowledge Distillation](https://arxiv.org/pdf/2004.09813.pdf)\"\n",
    "\n",
    "[2] https://www.sbert.net"
   ]
  }
 ],
 "metadata": {
  "kernelspec": {
   "display_name": "Python 3",
   "language": "python",
   "name": "python3"
  },
  "language_info": {
   "codemirror_mode": {
    "name": "ipython",
    "version": 3
   },
   "file_extension": ".py",
   "mimetype": "text/x-python",
   "name": "python",
   "nbconvert_exporter": "python",
   "pygments_lexer": "ipython3",
   "version": "3.8.5"
  }
 },
 "nbformat": 4,
 "nbformat_minor": 5
}
