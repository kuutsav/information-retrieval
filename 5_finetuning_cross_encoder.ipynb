{
 "cells": [
  {
   "cell_type": "markdown",
   "metadata": {},
   "source": [
    "# Finetuning a Cross-Encoder on STS\n",
    "\n",
    "In this notebook, we will finetune a Cross-Encoder on Semantic Textual Similarity text.\n",
    "\n",
    "First let's look at the architecture of a cross encoder.\n",
    "\n",
    "In a Bi-Encoder, we pass both the sentences(A and B) separately to the finetuned model and use the pooled embeddings to compare the similarity between the sentences (cosine or dot product).\n",
    "\n",
    "In a Cross-Encoder, we pass both the sentences together in the model and finetune the model with a linear head with output size 1, paired with a Binary Cross Entropy loss.\n",
    "\n",
    "In case of BERT, this would look something like this -\n",
    "\n",
    "\n",
    "| ![](assets/cross_encoder.png) | \n",
    "|:--:| \n",
    "| Fig. 1. Illustration of a Cross-Encoder architecture. |\n",
    "<br>\n",
    "\n",
    "Cross-Encoders perform better than Bi-Encoders, results are detailed in the original [Sentence-BERT paper](https://arxiv.org/abs/1908.10084). However, they are not practical for most of the applications as we can't use them to pre-compute and index our context/document embeddings.\n",
    "\n",
    "> Cross-Encoders can be used whenever you have a pre-defined set of sentence pairs you want to score. For example, you have 100 sentence pairs and you want to get similarity scores for these 100 pairs.\n",
    ">\n",
    "> Bi-Encoders are used whenever you need a sentence embedding in a vector space for efficient comparison. Applications are for example Information Retrieval / Semantic Search or Clustering. Cross-Encoders would be the wrong choice for these application: Clustering 10,000 sentence with CrossEncoders would require computing similarity scores for about 50 Million sentence combinations, which takes about 65 hours. With a Bi-Encoder, you compute the embedding for each sentence, which takes only 5 seconds. You can then perform the clustering.\n",
    ">\n",
    "> Source: https://www.sbert.net/examples/applications/cross-encoder/README.html\n",
    "\n",
    "Cross-Encoders are trypically used as a Re-Ranker.\n",
    "\n",
    "\n",
    "| ![](assets/cross_encoder_reranker.png) | \n",
    "|:--:| \n",
    "| Fig. 2. Illustration of a Cross-Encoder as a Re-Ranker. (Image source: https://www.sbert.net/examples/applications/retrieve_rerank/README.html) |\n",
    "<br>\n",
    "\n",
    "This is the most common setup for semantic search. We pass our `Document collection` though a Bi-Encoder finetuned for STS tasks and index the embeddings in a vector database.\n",
    "\n",
    "During query time, we embed the query using the same Bi-Encoder and fetch top k candidates from our database. This is the Retrieval part.\n",
    "\n",
    "Next, we can further refine the results by passing the top k(query, retrieved) document pairs through a Cross-Encoder finetuned for STS tasks. Cross-Encoder essentially re-sorts the retrieved candidate documents such that the top most relevant document has the highest score."
   ]
  },
  {
   "cell_type": "code",
   "execution_count": 1,
   "metadata": {},
   "outputs": [],
   "source": [
    "import random\n",
    "from typing import Callable, Iterable\n",
    "\n",
    "import datasets\n",
    "import matplotlib\n",
    "import matplotlib.pyplot as plt\n",
    "import numpy as np\n",
    "import torch\n",
    "from torch.utils.data import Dataset, DataLoader, random_split\n",
    "from tqdm import tqdm\n",
    "from transformers import BertTokenizerFast, BertModel\n",
    "from transformers.optimization import get_linear_schedule_with_warmup\n",
    "from scipy import stats\n",
    "from sklearn.metrics.pairwise import cosine_similarity"
   ]
  },
  {
   "cell_type": "code",
   "execution_count": 2,
   "metadata": {},
   "outputs": [],
   "source": [
    "tokenizer = BertTokenizerFast.from_pretrained(\"bert-base-uncased\")\n",
    "bert_model = BertModel.from_pretrained(\"bert-base-uncased\")"
   ]
  },
  {
   "cell_type": "code",
   "execution_count": 43,
   "metadata": {},
   "outputs": [
    {
     "data": {
      "text/plain": [
       "'[CLS] i am hungry. [SEP] order some food for me [SEP]'"
      ]
     },
     "execution_count": 43,
     "metadata": {},
     "output_type": "execute_result"
    }
   ],
   "source": [
    "# example of next sentence prediction objective used for a cross encoder\n",
    "tokenized_texts = tokenizer([\"I am hungry.\"], [\"Order some food for me\"], padding=True, truncation=True)\n",
    "tokenizer.decode(tokenized_texts[\"input_ids\"][0])"
   ]
  },
  {
   "cell_type": "markdown",
   "metadata": {},
   "source": [
    "## Data preparation"
   ]
  },
  {
   "cell_type": "code",
   "execution_count": 3,
   "metadata": {},
   "outputs": [
    {
     "name": "stderr",
     "output_type": "stream",
     "text": [
      "Reusing dataset glue (/home/utsav/.cache/huggingface/datasets/glue/stsb/1.0.0/dacbe3125aa31d7f70367a07a8a9e72a5a0bfeb5fc42e75c9db75b96da6053ad)\n"
     ]
    },
    {
     "data": {
      "text/plain": [
       "(5749,\n",
       " {'sentence1': 'A plane is taking off.',\n",
       "  'sentence2': 'An air plane is taking off.',\n",
       "  'label': 5.0,\n",
       "  'idx': 0})"
      ]
     },
     "execution_count": 3,
     "metadata": {},
     "output_type": "execute_result"
    }
   ],
   "source": [
    "dataset = datasets.load_dataset(\"glue\", \"stsb\", split=\"train\")\n",
    "len(dataset), dataset[0]"
   ]
  },
  {
   "cell_type": "markdown",
   "metadata": {},
   "source": [
    "Next we look at the distribution of lengths(from a sample) of sentence1 and sentence2 to choose the max_length we want to restrict our tokenizer to."
   ]
  },
  {
   "cell_type": "code",
   "execution_count": 4,
   "metadata": {},
   "outputs": [
    {
     "name": "stderr",
     "output_type": "stream",
     "text": [
      "100%|██████████████████████████████████████████████████████████████████| 5749/5749 [00:00<00:00, 23152.97it/s]\n"
     ]
    }
   ],
   "source": [
    "text_lengths1, text_lengths2 = [], []\n",
    "for data in tqdm(dataset):\n",
    "    if random.random() > 0.5:\n",
    "        text_lengths1.append(len(data[\"sentence1\"]))\n",
    "        text_lengths2.append(len(data[\"sentence2\"]))"
   ]
  },
  {
   "cell_type": "code",
   "execution_count": 5,
   "metadata": {},
   "outputs": [
    {
     "data": {
      "image/png": "[encoded data removed]",
      "text/plain": [
       "<Figure size 1008x432 with 2 Axes>"
      ]
     },
     "metadata": {
      "needs_background": "light"
     },
     "output_type": "display_data"
    }
   ],
   "source": [
    "fig, ax = plt.subplots(1, 2, figsize=(14, 6))\n",
    "ax[0].hist(text_lengths1)\n",
    "ax[1].hist(text_lengths2);"
   ]
  },
  {
   "cell_type": "code",
   "execution_count": 6,
   "metadata": {},
   "outputs": [
    {
     "name": "stdout",
     "output_type": "stream",
     "text": [
      "CPU times: user 1.15 s, sys: 353 ms, total: 1.5 s\n",
      "Wall time: 743 ms\n"
     ]
    }
   ],
   "source": [
    "%%time\n",
    "\n",
    "MAX_LENGTH = 128\n",
    "\n",
    "tokenized_texts = tokenizer([data[\"sentence1\"] for data in dataset],\n",
    "                            [data[\"sentence2\"] for data in dataset],\n",
    "                            max_length=MAX_LENGTH, padding=\"max_length\",\n",
    "                            truncation=True, verbose=True)"
   ]
  },
  {
   "cell_type": "code",
   "execution_count": 7,
   "metadata": {},
   "outputs": [],
   "source": [
    "seed = 10\n",
    "\n",
    "random.seed(seed)\n",
    "np.random.seed(seed)\n",
    "\n",
    "torch.manual_seed(seed)\n",
    "torch.cuda.manual_seed_all(seed)\n",
    "\n",
    "torch.backends.cudnn.deterministic = True\n",
    "torch.backends.cudnn.benchmark = False"
   ]
  },
  {
   "cell_type": "markdown",
   "metadata": {},
   "source": [
    "Now we will create out custom dataset and dataloaders with train/validation split for training."
   ]
  },
  {
   "cell_type": "code",
   "execution_count": 8,
   "metadata": {},
   "outputs": [],
   "source": [
    "class StsDataset(Dataset):\n",
    "    def __init__(self, tokens: dict, labels: list[float]):\n",
    "        self.tokens = tokens\n",
    "        self.labels = labels\n",
    "\n",
    "    def __getitem__(self, ix: int) -> dict[str, torch.tensor]:\n",
    "        return {\"input_ids\": torch.tensor(self.tokens[\"input_ids\"][ix], dtype=torch.long),\n",
    "                \"attention_mask\": torch.tensor(self.tokens[\"attention_mask\"][ix], dtype=torch.long),\n",
    "                \"token_type_ids\": torch.tensor(self.tokens[\"token_type_ids\"][ix], dtype=torch.long),\n",
    "                \"label\": torch.tensor(self.labels[ix] / 5.0, dtype=torch.float)}\n",
    "\n",
    "    def __len__(self) -> len:\n",
    "        return len(self.tokens[\"input_ids\"])"
   ]
  },
  {
   "cell_type": "code",
   "execution_count": 9,
   "metadata": {},
   "outputs": [
    {
     "name": "stdout",
     "output_type": "stream",
     "text": [
      "CPU times: user 246 ms, sys: 5.14 ms, total: 251 ms\n",
      "Wall time: 235 ms\n"
     ]
    }
   ],
   "source": [
    "%%time\n",
    "\n",
    "sts_dataset = StsDataset(tokenized_texts, [data[\"label\"] for data in dataset])"
   ]
  },
  {
   "cell_type": "code",
   "execution_count": 10,
   "metadata": {},
   "outputs": [],
   "source": [
    "train_ratio = 0.8\n",
    "n_total = len(sts_dataset)\n",
    "n_train = int(n_total * train_ratio)\n",
    "n_val = n_total - n_train\n",
    "\n",
    "train_dataset, val_dataset = random_split(sts_dataset, [n_train, n_val])\n",
    "\n",
    "batch_size = 16  # mentioned in the paper\n",
    "train_dataloader = DataLoader(train_dataset, batch_size=batch_size, shuffle=True)\n",
    "val_dataloader = DataLoader(val_dataset, batch_size=batch_size, shuffle=False)"
   ]
  },
  {
   "cell_type": "code",
   "execution_count": 11,
   "metadata": {},
   "outputs": [
    {
     "data": {
      "text/plain": [
       "(288, 72)"
      ]
     },
     "execution_count": 11,
     "metadata": {},
     "output_type": "execute_result"
    }
   ],
   "source": [
    "len(train_dataloader), len(val_dataloader)"
   ]
  },
  {
   "cell_type": "code",
   "execution_count": 12,
   "metadata": {},
   "outputs": [
    {
     "data": {
      "text/plain": [
       "{'input_ids': tensor([[  101,  2117, 10563,  ...,     0,     0,     0],\n",
       "         [  101,  2149,  2398,  ...,     0,     0,     0],\n",
       "         [  101,  1045,  1005,  ...,     0,     0,     0],\n",
       "         ...,\n",
       "         [  101,  1020,  1012,  ...,     0,     0,     0],\n",
       "         [  101,  3059,  3539,  ...,     0,     0,     0],\n",
       "         [  101,  8845, 16889,  ...,     0,     0,     0]]),\n",
       " 'attention_mask': tensor([[1, 1, 1,  ..., 0, 0, 0],\n",
       "         [1, 1, 1,  ..., 0, 0, 0],\n",
       "         [1, 1, 1,  ..., 0, 0, 0],\n",
       "         ...,\n",
       "         [1, 1, 1,  ..., 0, 0, 0],\n",
       "         [1, 1, 1,  ..., 0, 0, 0],\n",
       "         [1, 1, 1,  ..., 0, 0, 0]]),\n",
       " 'token_type_ids': tensor([[0, 0, 0,  ..., 0, 0, 0],\n",
       "         [0, 0, 0,  ..., 0, 0, 0],\n",
       "         [0, 0, 0,  ..., 0, 0, 0],\n",
       "         ...,\n",
       "         [0, 0, 0,  ..., 0, 0, 0],\n",
       "         [0, 0, 0,  ..., 0, 0, 0],\n",
       "         [0, 0, 0,  ..., 0, 0, 0]]),\n",
       " 'label': tensor([0.2800, 0.9600, 1.0000, 0.9200, 0.2000, 0.9600, 0.3200, 0.4400, 0.4800,\n",
       "         0.8000, 0.6400, 0.5600, 0.8500, 0.4000, 0.2800, 0.2000])}"
      ]
     },
     "execution_count": 12,
     "metadata": {},
     "output_type": "execute_result"
    }
   ],
   "source": [
    "next(iter(train_dataloader))"
   ]
  },
  {
   "cell_type": "markdown",
   "metadata": {},
   "source": [
    "## Model config"
   ]
  },
  {
   "cell_type": "code",
   "execution_count": 13,
   "metadata": {},
   "outputs": [
    {
     "data": {
      "text/plain": [
       "'cuda'"
      ]
     },
     "execution_count": 13,
     "metadata": {},
     "output_type": "execute_result"
    }
   ],
   "source": [
    "device = \"cuda\" if torch.cuda.is_available() else \"cpu\"\n",
    "device"
   ]
  },
  {
   "cell_type": "code",
   "execution_count": 14,
   "metadata": {},
   "outputs": [],
   "source": [
    "class CrossEncoderBert(torch.nn.Module):\n",
    "    def __init__(self, max_length: int = MAX_LENGTH):\n",
    "        super().__init__()\n",
    "        self.max_length = max_length\n",
    "        self.bert_model = BertModel.from_pretrained('bert-base-uncased')\n",
    "        self.bert_tokenizer = BertTokenizerFast.from_pretrained('bert-base-uncased')\n",
    "        self.linear = torch.nn.Linear(self.bert_model.config.hidden_size, 1)\n",
    "\n",
    "\n",
    "    def forward(self, data: datasets.arrow_dataset.Dataset) -> torch.tensor:\n",
    "        input_ids = data[\"input_ids\"].to(device)\n",
    "        attention_mask = data[\"attention_mask\"].to(device)\n",
    "        token_type_ids = data[\"token_type_ids\"].to(device)\n",
    "        return self.linear(\n",
    "            self.bert_model(input_ids, attention_mask, token_type_ids).pooler_output\n",
    "        ).view(-1)"
   ]
  },
  {
   "cell_type": "code",
   "execution_count": 15,
   "metadata": {},
   "outputs": [
    {
     "name": "stderr",
     "output_type": "stream",
     "text": [
      "Some weights of the model checkpoint at bert-base-uncased were not used when initializing BertModel: ['cls.predictions.transform.LayerNorm.bias', 'cls.predictions.transform.dense.bias', 'cls.predictions.transform.LayerNorm.weight', 'cls.seq_relationship.bias', 'cls.predictions.transform.dense.weight', 'cls.predictions.decoder.weight', 'cls.seq_relationship.weight', 'cls.predictions.bias']\n",
      "- This IS expected if you are initializing BertModel from the checkpoint of a model trained on another task or with another architecture (e.g. initializing a BertForSequenceClassification model from a BertForPreTraining model).\n",
      "- This IS NOT expected if you are initializing BertModel from the checkpoint of a model that you expect to be exactly identical (initializing a BertForSequenceClassification model from a BertForSequenceClassification model).\n"
     ]
    }
   ],
   "source": [
    "model = CrossEncoderBert()"
   ]
  },
  {
   "cell_type": "code",
   "execution_count": 16,
   "metadata": {},
   "outputs": [],
   "source": [
    "#  optimizer, lr, num_warmup steps have been picked from the paper\n",
    "optimizer = torch.optim.Adam(model.parameters(), lr=3e-5)\n",
    "total_steps = len(train_dataset) // batch_size\n",
    "warmup_steps = int(0.1 * total_steps)\n",
    "scheduler = get_linear_schedule_with_warmup(optimizer, num_warmup_steps=warmup_steps,\n",
    "                                            num_training_steps=total_steps - warmup_steps)\n",
    "\n",
    "loss_fn = torch.nn.BCEWithLogitsLoss()"
   ]
  },
  {
   "cell_type": "code",
   "execution_count": 17,
   "metadata": {},
   "outputs": [],
   "source": [
    "model = model.to(device)"
   ]
  },
  {
   "cell_type": "markdown",
   "metadata": {},
   "source": [
    "## Training loop"
   ]
  },
  {
   "cell_type": "code",
   "execution_count": 18,
   "metadata": {},
   "outputs": [],
   "source": [
    "def get_train_step_fn(\n",
    "    model: torch.nn.Module, optimizer: torch.optim.Optimizer,\n",
    "    scheduler: torch.optim.lr_scheduler.LambdaLR, loss_fn: torch.nn.CrossEntropyLoss\n",
    ") -> Callable[[torch.tensor, torch.tensor], float]:\n",
    "\n",
    "    def train_step_fn(x: torch.tensor, target: torch.tensor) -> float:\n",
    "        model.train()\n",
    "        logits = model(x)\n",
    "        loss = loss_fn(logits, target)\n",
    "        loss.backward()\n",
    "        optimizer.step()\n",
    "        scheduler.step()\n",
    "        optimizer.zero_grad()\n",
    "        return loss.item()\n",
    "\n",
    "    return train_step_fn\n",
    "\n",
    "\n",
    "def get_val_step_fn(\n",
    "    model: torch.nn.Module, loss_fn: torch.nn.CrossEntropyLoss\n",
    ") -> Callable[[torch.tensor, torch.tensor], float]:\n",
    "\n",
    "    def val_step_fn(x: torch.tensor, target: torch.tensor) -> float:\n",
    "        model.eval()\n",
    "        logits = model(x)\n",
    "        loss = loss_fn(logits, target)\n",
    "        return loss.item()\n",
    "\n",
    "    return val_step_fn\n",
    "\n",
    "\n",
    "def mini_batch(\n",
    "    dataloader: DataLoader,\n",
    "    step_fn: Callable[[torch.tensor, torch.tensor], float],\n",
    "    is_training: bool = True\n",
    ") -> tuple[np.array, list[float]]:\n",
    "\n",
    "    mini_batch_losses = []\n",
    "\n",
    "    if is_training:\n",
    "        print(\"\\nTraining ...\")\n",
    "    else:\n",
    "        print(\"\\nValidating ...\")\n",
    "    n_steps = len(dataloader)\n",
    "    for i, data in enumerate(dataloader):\n",
    "        loss = step_fn(data, data[\"label\"].to(device))\n",
    "        mini_batch_losses.append(loss)\n",
    "        if i % (batch_size * 4) == 0:\n",
    "            print(f\"step {i:>5}/{n_steps}, loss = {loss: .3f}\")\n",
    "\n",
    "    return np.mean(mini_batch_losses), mini_batch_losses"
   ]
  },
  {
   "cell_type": "code",
   "execution_count": 19,
   "metadata": {},
   "outputs": [
    {
     "name": "stdout",
     "output_type": "stream",
     "text": [
      "\n",
      "Epoch 1\n",
      "\n",
      "Training ...\n",
      "step     0/288, loss =  0.725\n",
      "step    64/288, loss =  0.608\n",
      "step   128/288, loss =  0.626\n",
      "step   192/288, loss =  0.551\n",
      "step   256/288, loss =  0.547\n",
      "\n",
      "Validating ...\n",
      "step     0/72, loss =  0.580\n",
      "step    64/72, loss =  0.568\n",
      "\n",
      "Epoch 2\n",
      "\n",
      "Training ...\n",
      "step     0/288, loss =  0.621\n",
      "step    64/288, loss =  0.573\n",
      "step   128/288, loss =  0.569\n",
      "step   192/288, loss =  0.671\n",
      "step   256/288, loss =  0.543\n",
      "\n",
      "Validating ...\n",
      "step     0/72, loss =  0.580\n",
      "step    64/72, loss =  0.568\n",
      "\n",
      "Epoch 3\n",
      "\n",
      "Training ...\n",
      "step     0/288, loss =  0.549\n",
      "step    64/288, loss =  0.519\n",
      "step   128/288, loss =  0.580\n",
      "step   192/288, loss =  0.557\n",
      "step   256/288, loss =  0.648\n",
      "\n",
      "Validating ...\n",
      "step     0/72, loss =  0.580\n",
      "step    64/72, loss =  0.568\n",
      "\n",
      "Epoch 4\n",
      "\n",
      "Training ...\n",
      "step     0/288, loss =  0.571\n",
      "step    64/288, loss =  0.563\n",
      "step   128/288, loss =  0.543\n",
      "step   192/288, loss =  0.620\n",
      "step   256/288, loss =  0.478\n",
      "\n",
      "Validating ...\n",
      "step     0/72, loss =  0.580\n",
      "step    64/72, loss =  0.568\n",
      "CPU times: user 1min 16s, sys: 32.8 s, total: 1min 49s\n",
      "Wall time: 1min 49s\n"
     ]
    }
   ],
   "source": [
    "%%time\n",
    "\n",
    "n_epochs = 4\n",
    "\n",
    "train_step_fn = get_train_step_fn(model, optimizer, scheduler, loss_fn)\n",
    "val_step_fn = get_val_step_fn(model, loss_fn)\n",
    "\n",
    "train_losses, train_mini_batch_losses = [], []\n",
    "val_losses, val_mini_batch_losses = [], []\n",
    "\n",
    "for epoch in range(1, n_epochs + 1):\n",
    "    print(f\"\\nEpoch {epoch}\")\n",
    "    train_loss, _train_mini_batch_losses = mini_batch(train_dataloader, train_step_fn)\n",
    "    train_mini_batch_losses += _train_mini_batch_losses\n",
    "    train_losses.append(train_loss)\n",
    "\n",
    "    with torch.no_grad():\n",
    "        val_loss, _val_mini_batch_losses = mini_batch(val_dataloader, val_step_fn, is_training=False)\n",
    "        val_mini_batch_losses += _val_mini_batch_losses\n",
    "        val_losses.append(val_loss)"
   ]
  },
  {
   "cell_type": "code",
   "execution_count": 20,
   "metadata": {},
   "outputs": [
    {
     "data": {
      "text/plain": [
       "([0.6042224639612768,\n",
       "  0.5663815911652313,\n",
       "  0.5663390109936396,\n",
       "  0.5664176436968975],\n",
       " [0.5507968138489459,\n",
       "  0.5507968138489459,\n",
       "  0.5507968138489459,\n",
       "  0.5507968138489459])"
      ]
     },
     "execution_count": 20,
     "metadata": {},
     "output_type": "execute_result"
    }
   ],
   "source": [
    "train_losses, val_losses"
   ]
  },
  {
   "cell_type": "markdown",
   "metadata": {},
   "source": [
    "** Validation loss staying the same indicates that something is off. Please let me know if someone finds the issue.\n",
    "\n",
    "Normally we look at losses over multiple epochs, but here we have only 4 epochs. One way to look at the mini batch losses is to use a running mean(smoothing) to reduce noise from per batch loss."
   ]
  },
  {
   "cell_type": "code",
   "execution_count": 21,
   "metadata": {},
   "outputs": [],
   "source": [
    "window_size = 32\n",
    "\n",
    "train_mb_running_loss = []\n",
    "for i in range(len(train_mini_batch_losses)-window_size):\n",
    "    train_mb_running_loss.append(np.mean(train_mini_batch_losses[i:i+window_size]))\n",
    "\n",
    "val_mb_running_loss = []\n",
    "for i in range(len(val_mini_batch_losses)-window_size):\n",
    "    val_mb_running_loss.append(np.mean(val_mini_batch_losses[i:i+window_size]))"
   ]
  },
  {
   "cell_type": "code",
   "execution_count": 22,
   "metadata": {},
   "outputs": [
    {
     "data": {
      "image/png": "[encoded data removed]",
      "text/plain": [
       "<Figure size 1008x576 with 1 Axes>"
      ]
     },
     "metadata": {
      "needs_background": "light"
     },
     "output_type": "display_data"
    }
   ],
   "source": [
    "fix, ax = plt.subplots(figsize=(14, 8))\n",
    "ax.plot(range(len(train_mb_running_loss)), train_mb_running_loss);"
   ]
  },
  {
   "cell_type": "markdown",
   "metadata": {},
   "source": [
    "## Evaluation\n",
    "\n",
    "Let's look at how this finetuned Cross-Encoder can be used to rank a collection of documents for a query.\n",
    "We will look at few examples to manually inspect our finetuned model and the base-bert model."
   ]
  },
  {
   "cell_type": "code",
   "execution_count": 96,
   "metadata": {},
   "outputs": [],
   "source": [
    "def get_ranked_docs(\n",
    "    tokenizer: BertTokenizerFast, finetuned_ce: CrossEncoderBert,\n",
    "    base_bert: BertModel, query: str, corpus: list[str]\n",
    ") -> None:\n",
    "    \n",
    "    queries = [query] * len(corpus)\n",
    "    tokenized_texts = tokenizer(\n",
    "        queries, corpus, max_length=MAX_LENGTH, padding=True, truncation=True, return_tensors=\"pt\"\n",
    "    )\n",
    "    ce_scores = torch.nn.Sigmoid()(model.linear(model.bert_model(**tokenized_texts.to(device)).pooler_output))\n",
    "    bert_scores = torch.nn.Sigmoid()(model.linear(bert_model(**tokenized_texts.to(device)).pooler_output))\n",
    "    \n",
    "    print(f\"Query - {query} [Finetuned Cross-Encoder]\\n---\")\n",
    "    scores = ce_scores.view(-1).cpu().detach().numpy()\n",
    "    scores_ix = np.argsort(scores)[::-1]\n",
    "    for ix in scores_ix:\n",
    "        print(f\"{scores[ix]: >.2f}\\t{corpus[ix]}\")\n",
    "    \n",
    "    print(f\"\\nQuery - {query} [Bert Base]\\n---\")\n",
    "    scores = bert_scores.view(-1).cpu().detach().numpy()\n",
    "    scores_ix = np.argsort(scores)[::-1]\n",
    "    for ix in scores_ix:\n",
    "        print(f\"{scores[ix]: >.2f}\\t{corpus[ix]}\")"
   ]
  },
  {
   "cell_type": "code",
   "execution_count": 97,
   "metadata": {},
   "outputs": [],
   "source": [
    "corpus = [\n",
    "    \"A man is eating food.\",\n",
    "    \"A man is eating a piece of bread.\",\n",
    "    \"The girl is carrying a baby.\",\n",
    "    \"A man is riding a horse.\",\n",
    "    \"A woman is playing violin.\",\n",
    "    \"Two men pushed carts through the woods.\",\n",
    "    \"A man is riding a white horse on an enclosed ground.\",\n",
    "    \"A monkey is playing drums.\",\n",
    "    \"A cheetah is running behind its prey.\"\n",
    "]\n",
    "\n",
    "query = \"A man is eating pasta.\""
   ]
  },
  {
   "cell_type": "code",
   "execution_count": 98,
   "metadata": {},
   "outputs": [
    {
     "name": "stdout",
     "output_type": "stream",
     "text": [
      "Query - A man is eating pasta. [Finetuned Cross-Encoder]\n",
      "---\n",
      "0.74\tA man is eating food.\n",
      "0.41\tA man is eating a piece of bread.\n",
      "0.15\tThe girl is carrying a baby.\n",
      "0.14\tTwo men pushed carts through the woods.\n",
      "0.13\tA man is riding a horse.\n",
      "0.12\tA woman is playing violin.\n",
      "0.12\tA man is riding a white horse on an enclosed ground.\n",
      "0.12\tA monkey is playing drums.\n",
      "0.11\tA cheetah is running behind its prey.\n",
      "\n",
      "Query - A man is eating pasta. [Bert Base]\n",
      "---\n",
      "0.51\tTwo men pushed carts through the woods.\n",
      "0.37\tA man is eating food.\n",
      "0.37\tA man is eating a piece of bread.\n",
      "0.37\tA man is riding a horse.\n",
      "0.36\tA woman is playing violin.\n",
      "0.36\tA man is riding a white horse on an enclosed ground.\n",
      "0.36\tThe girl is carrying a baby.\n",
      "0.36\tA monkey is playing drums.\n",
      "0.36\tA cheetah is running behind its prey.\n"
     ]
    }
   ],
   "source": [
    "get_ranked_docs(tokenizer, model, bert_model, query, corpus)"
   ]
  },
  {
   "cell_type": "code",
   "execution_count": 104,
   "metadata": {},
   "outputs": [],
   "source": [
    "corpus = [\n",
    "    \"A man is eating food.\",\n",
    "    \"A man is eating a piece of bread.\",\n",
    "    \"A woman is playing violin.\",\n",
    "    \"Two men pushed carts through the woods.\",\n",
    "    \"A woman is practicing jumps with her horse.\",\n",
    "    \"A horse is running around the track.\"\n",
    "]\n",
    "\n",
    "query = \"Horse jumped over the obstacle.\""
   ]
  },
  {
   "cell_type": "code",
   "execution_count": 105,
   "metadata": {},
   "outputs": [
    {
     "name": "stdout",
     "output_type": "stream",
     "text": [
      "Query - Horse jumped over the obstacle. [Finetuned Cross-Encoder]\n",
      "---\n",
      "0.62\tA woman is practicing jumps with her horse.\n",
      "0.57\tA horse is running around the track.\n",
      "0.27\tA woman is playing violin.\n",
      "0.19\tTwo men pushed carts through the woods.\n",
      "0.18\tA man is eating a piece of bread.\n",
      "0.14\tA man is eating food.\n",
      "\n",
      "Query - Horse jumped over the obstacle. [Bert Base]\n",
      "---\n",
      "0.54\tA man is eating a piece of bread.\n",
      "0.54\tA woman is playing violin.\n",
      "0.48\tA man is eating food.\n",
      "0.37\tTwo men pushed carts through the woods.\n",
      "0.36\tA woman is practicing jumps with her horse.\n",
      "0.36\tA horse is running around the track.\n"
     ]
    }
   ],
   "source": [
    "get_ranked_docs(tokenizer, model, bert_model, query, corpus)"
   ]
  },
  {
   "cell_type": "markdown",
   "metadata": {},
   "source": [
    "In both the examples we can see that our model is able to find the most relevant document from the corpus. Also, our finetuned model is pushing down the scores for non-relevant documents in the corpus, the bert-base model is scoring pretty much every document above .35 in this example.\n",
    "\n",
    "---\n",
    "\n",
    "## References\n",
    "\n",
    "[1] Nils Reimers, Iryna Gurevych. \"[Sentence-BERT: Sentence Embeddings using Siamese BERT-Networks](https://arxiv.org/pdf/1908.10084.pdf)\"\n",
    "\n",
    "[2] https://www.sbert.net"
   ]
  }
 ],
 "metadata": {
  "kernelspec": {
   "display_name": "Python 3",
   "language": "python",
   "name": "python3"
  },
  "language_info": {
   "codemirror_mode": {
    "name": "ipython",
    "version": 3
   },
   "file_extension": ".py",
   "mimetype": "text/x-python",
   "name": "python",
   "nbconvert_exporter": "python",
   "pygments_lexer": "ipython3",
   "version": "3.8.5"
  }
 },
 "nbformat": 4,
 "nbformat_minor": 5
}
