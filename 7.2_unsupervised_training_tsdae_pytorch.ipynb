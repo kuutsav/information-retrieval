{
 "cells": [
  {
   "cell_type": "markdown",
   "metadata": {},
   "source": [
    "# Unsupervised sentence embedding learning - TSDAE\n",
    "\n",
    "** This notebook exposes some of the inner workings of the `DenoisingAutoEncoderLoss`(from the sentence_transformers library). The core components are borrowed from the sentence_transformers library. We just use the essential parts here to get a better understanding of the underlying architecture.\n",
    "\n",
    "In this notebook, we will look at the work of `Kexin Wang, Nils Reimers, Iryna Gurevych` on their paper [TSDAE: Using Transformer-based Sequential Denoising Auto-Encoder for Unsupervised Sentence Embedding Learning](https://arxiv.org/pdf/2104.06979.pdf).\n",
    "\n",
    "Here is the summary of the paper by the authors.\n",
    "\n",
    "> Learning sentence embeddings often requires\n",
    "a large amount of labeled data. However,\n",
    "for most tasks and domains, labeled data is\n",
    "seldom available and creating it is expensive.\n",
    "In this work, we present a new state-of-the-art unsupervised method based on pre-trained\n",
    "Transformers and Sequential Denoising AutoEncoder (TSDAE) which outperforms previous approaches by up to 6.4 points. It can achieve up to 93.1% of the performance of indomain supervised approaches. Further, we\n",
    "show that TSDAE is a strong domain adaptation and pre-training method for sentence\n",
    "embeddings, significantly outperforming other approaches like Masked Language Model.\n",
    ">\n",
    "> A crucial shortcoming of previous studies is the narrow evaluation: Most work mainly evaluates on the single task of Semantic Textual Similarity (STS), which does not require any domain knowledge. It is unclear if these proposed methods generalize to other domains and tasks. We fill this gap and evaluate TSDAE and other recent approaches on four different datasets from heterogeneous domains.\n",
    "\n",
    "The techniques we have discussed so far - Bi-Encoders, Cross-Encoders, etc. required labeled data. While they show great performace on in-domain data, their performance declines rapidly on out-of-domain data.\n",
    "\n",
    "| ![](assets/models_generalize.png) | \n",
    "|:--:| \n",
    "| Fig. 1. Illustration of generalizability of Neural IR models on 18 IR datasets from the [BIER benchmark](https://arxiv.org/abs/2104.08663). (Image source: https://www.youtube.com/watch?v=xbdLowiQTlk&t=658s) |\n",
    "\n",
    "We can see that BM25(retriever/candidate generator) and Cross-Encoder(Re-Ranker) works the best while many dense retrievers fail to outperform just the BM25 on most on the datasets.\n",
    "\n",
    "So why not use BM25 + Cross-Encoders?\n",
    "\n",
    "As we mentioned earlier, Cross-Encoders are expensive as we can't index the corpus beforehand. For each query, we would need to score the query against all the retrieved candidates(which could be in 100s).\n",
    "\n",
    "So we again come back to Bi-Encoders as they are fast at both indexing the corpus and inference(using ANNs).\n",
    "\n",
    "In TSDAE, the authors train encoder based models with pre-training objective similar to `Masked Language Modeling` but with slight variation.\n",
    "In MLM, we mask some tokens and train the encoders to predict the masked tokens, but in TSDAE, we delete some tokens from the input sentences, create a pooled representation of the sentence(MEAN-pooling or CLS-embedding) and pass that to a Denoising Auto-Encoder to recreate the original input text.\n",
    "\n",
    "| ![](assets/tsdae.png) | \n",
    "|:--:| \n",
    "| Fig. 2. Illustration of TSDAE. (Image source: https://arxiv.org/pdf/2104.06979.pdf) |\n",
    "\n",
    "The authors tried a bunch of configurations for adding noise. The best results came from deletion with a deletion ratio of 0.6.\n",
    "Note that the models were trained on a combination of SNLI and MultiNLI datasets without labels and evaluated on the STS benchmark with the metric Spearman rank correlation.\n",
    "CLS and Mean-pooling worked the best with similar performance. They recommend choosing CLS-pooling so we will also use that.\n",
    "\n",
    "| ![](assets/tsdae_config.png) |\n",
    "|:--:|\n",
    "| Fig. 3. Results with differnt noise types, noise ratios and pooling methods. (Image source: https://arxiv.org/pdf/2104.06979.pdf) |\n",
    "\n",
    "Here we will use the `sentence_transformers` library to train this architecture. Lets start ...\n",
    "\n",
    "## Data preparation"
   ]
  },
  {
   "cell_type": "code",
   "execution_count": 1,
   "metadata": {},
   "outputs": [],
   "source": [
    "import random\n",
    "from typing import Callable\n",
    "\n",
    "import datasets as hf_datasets\n",
    "import matplotlib.pyplot as plt\n",
    "import numpy as np\n",
    "import nltk\n",
    "from nltk.tokenize.treebank import TreebankWordDetokenizer\n",
    "import pandas as pd\n",
    "from sentence_transformers import InputExample, SentenceTransformer, LoggingHandler\n",
    "from sentence_transformers import models, util, datasets, evaluation, losses\n",
    "from sentence_transformers.evaluation import EmbeddingSimilarityEvaluator\n",
    "from scipy import stats\n",
    "import torch\n",
    "from torch.utils.data import Dataset, DataLoader, random_split\n",
    "from transformers.optimization import get_linear_schedule_with_warmup"
   ]
  },
  {
   "cell_type": "code",
   "execution_count": 2,
   "metadata": {},
   "outputs": [],
   "source": [
    "from transformers import AutoConfig, AutoModelForCausalLM, BertModel, BertTokenizerFast"
   ]
  },
  {
   "cell_type": "code",
   "execution_count": 3,
   "metadata": {},
   "outputs": [
    {
     "name": "stderr",
     "output_type": "stream",
     "text": [
      "[nltk_data] Downloading package punkt to /home/utsav/nltk_data...\n",
      "[nltk_data]   Package punkt is already up-to-date!\n"
     ]
    }
   ],
   "source": [
    "nltk.download(\"punkt\")\n",
    "pd.set_option(\"display.max_colwidth\", None)"
   ]
  },
  {
   "cell_type": "code",
   "execution_count": 4,
   "metadata": {},
   "outputs": [],
   "source": [
    "seed = 10\n",
    "\n",
    "random.seed(seed)\n",
    "np.random.seed(seed)\n",
    "\n",
    "torch.manual_seed(seed)\n",
    "torch.cuda.manual_seed_all(seed)\n",
    "\n",
    "torch.backends.cudnn.deterministic = True\n",
    "torch.backends.cudnn.benchmark = False"
   ]
  },
  {
   "cell_type": "code",
   "execution_count": 5,
   "metadata": {},
   "outputs": [
    {
     "name": "stderr",
     "output_type": "stream",
     "text": [
      "Reusing dataset snli (/home/utsav/.cache/huggingface/datasets/snli/plain_text/1.0.0/1f60b67533b65ae0275561ff7828aad5ee4282d0e6f844fd148d05d3c6ea251b)\n",
      "Parameter 'function'=<function <lambda> at 0x7fb873803a60> of the transform datasets.arrow_dataset.Dataset.filter@2.0.1 couldn't be hashed properly, a random hash was used instead. Make sure your transforms and parameters are serializable with pickle or dill for the dataset fingerprinting and caching to work. If you reuse this transform, the caching mechanism will consider it to be different from the previous calls and recompute everything. This warning is only showed once. Subsequent hashing failures won't be showed.\n",
      "Loading cached processed dataset at /home/utsav/.cache/huggingface/datasets/snli/plain_text/1.0.0/1f60b67533b65ae0275561ff7828aad5ee4282d0e6f844fd148d05d3c6ea251b/cache-08577eb1924770d3.arrow\n"
     ]
    },
    {
     "data": {
      "text/plain": [
       "(109812,\n",
       " {'premise': 'Children smiling and waving at camera',\n",
       "  'hypothesis': 'They are smiling at their parents',\n",
       "  'label': 1})"
      ]
     },
     "execution_count": 5,
     "metadata": {},
     "output_type": "execute_result"
    }
   ],
   "source": [
    "dataset = hf_datasets.load_dataset(\"snli\", split=\"train\")\n",
    "dataset = dataset.filter(lambda _: True if random.random() > 0.9 else False)\n",
    "\n",
    "len(dataset), dataset[0]"
   ]
  },
  {
   "cell_type": "code",
   "execution_count": 6,
   "metadata": {},
   "outputs": [
    {
     "data": {
      "text/plain": [
       "77550"
      ]
     },
     "execution_count": 6,
     "metadata": {},
     "output_type": "execute_result"
    }
   ],
   "source": [
    "train_sentences = [d[\"premise\"] for d in dataset]\n",
    "train_sentences = list(set(train_sentences))\n",
    "len(train_sentences)"
   ]
  },
  {
   "cell_type": "code",
   "execution_count": 7,
   "metadata": {},
   "outputs": [],
   "source": [
    "# sentence_transformers/datasets/DenoisingAutoEncoderDataset.py\n",
    "\n",
    "def get_noisy_text(text: str, del_ratio: float=0.6):\n",
    "    words = nltk.word_tokenize(text)\n",
    "    n = len(words)\n",
    "    if n == 0:\n",
    "        return text\n",
    "\n",
    "    keep_or_not = np.random.rand(n) > del_ratio\n",
    "    if sum(keep_or_not) == 0:\n",
    "        keep_or_not[np.random.choice(n)] = True\n",
    "    words_processed = TreebankWordDetokenizer().detokenize(np.array(words)[keep_or_not])\n",
    "\n",
    "    return words_processed"
   ]
  },
  {
   "cell_type": "code",
   "execution_count": 8,
   "metadata": {},
   "outputs": [],
   "source": [
    "noisy_train_sentences = [get_noisy_text(txt) for txt in train_sentences]"
   ]
  },
  {
   "cell_type": "markdown",
   "metadata": {},
   "source": [
    "Let's look at some examples of the noise added by this method."
   ]
  },
  {
   "cell_type": "code",
   "execution_count": 9,
   "metadata": {},
   "outputs": [
    {
     "data": {
      "text/html": [
       "<div>\n",
       "<style scoped>\n",
       "    .dataframe tbody tr th:only-of-type {\n",
       "        vertical-align: middle;\n",
       "    }\n",
       "\n",
       "    .dataframe tbody tr th {\n",
       "        vertical-align: top;\n",
       "    }\n",
       "\n",
       "    .dataframe thead th {\n",
       "        text-align: right;\n",
       "    }\n",
       "</style>\n",
       "<table border=\"1\" class=\"dataframe\">\n",
       "  <thead>\n",
       "    <tr style=\"text-align: right;\">\n",
       "      <th></th>\n",
       "      <th>noisy</th>\n",
       "      <th>original</th>\n",
       "    </tr>\n",
       "  </thead>\n",
       "  <tbody>\n",
       "    <tr>\n",
       "      <th>0</th>\n",
       "      <td>Two try to on quad, falls off.</td>\n",
       "      <td>Two students try to walk a tightrope on a campus quad, but one falls off.</td>\n",
       "    </tr>\n",
       "    <tr>\n",
       "      <th>1</th>\n",
       "      <td>at work boy a on the beach</td>\n",
       "      <td>Hard at work, this teenage boy is handling a fish on the beach.</td>\n",
       "    </tr>\n",
       "    <tr>\n",
       "      <th>2</th>\n",
       "      <td>A cast something video another is at</td>\n",
       "      <td>A man with an arm cast films something on video while another man is looking at the camera.</td>\n",
       "    </tr>\n",
       "    <tr>\n",
       "      <th>3</th>\n",
       "      <td>toddler yellow bathing is toe</td>\n",
       "      <td>A toddler in a yellow bathing suit is dipping her toe in a wading pool.</td>\n",
       "    </tr>\n",
       "    <tr>\n",
       "      <th>4</th>\n",
       "      <td>huge</td>\n",
       "      <td>Children climbing huge tree.</td>\n",
       "    </tr>\n",
       "    <tr>\n",
       "      <th>5</th>\n",
       "      <td>baby an adults fingers the</td>\n",
       "      <td>A baby is hold an adults fingers on the beach.</td>\n",
       "    </tr>\n",
       "    <tr>\n",
       "      <th>6</th>\n",
       "      <td>black are at.</td>\n",
       "      <td>A woman in a pink bikini and a man in black swim trunks are jumping in the water at the beach.</td>\n",
       "    </tr>\n",
       "    <tr>\n",
       "      <th>7</th>\n",
       "      <td>A many</td>\n",
       "      <td>A dancer performs an aerial move with many others watch.</td>\n",
       "    </tr>\n",
       "    <tr>\n",
       "      <th>8</th>\n",
       "      <td>at pool</td>\n",
       "      <td>A family at a swimming pool.</td>\n",
       "    </tr>\n",
       "    <tr>\n",
       "      <th>9</th>\n",
       "      <td>A lays lot.</td>\n",
       "      <td>A man in blue shorts lays down outside in a parking lot.</td>\n",
       "    </tr>\n",
       "    <tr>\n",
       "      <th>10</th>\n",
       "      <td>at local school game</td>\n",
       "      <td>A play happening at a local high school football game.</td>\n",
       "    </tr>\n",
       "    <tr>\n",
       "      <th>11</th>\n",
       "      <td>polo while a</td>\n",
       "      <td>A polo player cradles a ball while riding a horse.</td>\n",
       "    </tr>\n",
       "    <tr>\n",
       "      <th>12</th>\n",
       "      <td>people, businesses in the background.</td>\n",
       "      <td>A photograph of a street with people walking and sitting, and businesses in the background.</td>\n",
       "    </tr>\n",
       "    <tr>\n",
       "      <th>13</th>\n",
       "      <td>man sleeping floor.</td>\n",
       "      <td>A man and two children are sleeping on the floor.</td>\n",
       "    </tr>\n",
       "    <tr>\n",
       "      <th>14</th>\n",
       "      <td>licking</td>\n",
       "      <td>Brown dog with black collar licking nose.</td>\n",
       "    </tr>\n",
       "    <tr>\n",
       "      <th>15</th>\n",
       "      <td>a bowl with chopsticks selling of meat</td>\n",
       "      <td>Woman eating a bowl of soup with chopsticks while selling raw slabs of meat.</td>\n",
       "    </tr>\n",
       "    <tr>\n",
       "      <th>16</th>\n",
       "      <td>One female and white all of in of concrete stair the</td>\n",
       "      <td>One black female and one white female plus three white males, all wearing forms of black, in front of a concrete stair structure with other people sitting on the stairs.</td>\n",
       "    </tr>\n",
       "    <tr>\n",
       "      <th>17</th>\n",
       "      <td>A a is down hill with a on his back</td>\n",
       "      <td>A skier in a blue outfit is skiing down the hill with a red pack on his back.</td>\n",
       "    </tr>\n",
       "    <tr>\n",
       "      <th>18</th>\n",
       "      <td>wearing the and blue jean jacket smiling</td>\n",
       "      <td>The gal wearing the black sunglasses and blue jean jacket is smiling.</td>\n",
       "    </tr>\n",
       "    <tr>\n",
       "      <th>19</th>\n",
       "      <td>reading names have passed.</td>\n",
       "      <td>The professor reading the names of students who have passed the exam.</td>\n",
       "    </tr>\n",
       "  </tbody>\n",
       "</table>\n",
       "</div>"
      ],
      "text/plain": [
       "                                                   noisy  \\\n",
       "0                         Two try to on quad, falls off.   \n",
       "1                             at work boy a on the beach   \n",
       "2                   A cast something video another is at   \n",
       "3                          toddler yellow bathing is toe   \n",
       "4                                                   huge   \n",
       "5                             baby an adults fingers the   \n",
       "6                                          black are at.   \n",
       "7                                                 A many   \n",
       "8                                                at pool   \n",
       "9                                            A lays lot.   \n",
       "10                                  at local school game   \n",
       "11                                          polo while a   \n",
       "12                 people, businesses in the background.   \n",
       "13                                   man sleeping floor.   \n",
       "14                                               licking   \n",
       "15                a bowl with chopsticks selling of meat   \n",
       "16  One female and white all of in of concrete stair the   \n",
       "17                   A a is down hill with a on his back   \n",
       "18              wearing the and blue jean jacket smiling   \n",
       "19                            reading names have passed.   \n",
       "\n",
       "                                                                                                                                                                     original  \n",
       "0                                                                                                   Two students try to walk a tightrope on a campus quad, but one falls off.  \n",
       "1                                                                                                             Hard at work, this teenage boy is handling a fish on the beach.  \n",
       "2                                                                                 A man with an arm cast films something on video while another man is looking at the camera.  \n",
       "3                                                                                                     A toddler in a yellow bathing suit is dipping her toe in a wading pool.  \n",
       "4                                                                                                                                                Children climbing huge tree.  \n",
       "5                                                                                                                              A baby is hold an adults fingers on the beach.  \n",
       "6                                                                              A woman in a pink bikini and a man in black swim trunks are jumping in the water at the beach.  \n",
       "7                                                                                                                    A dancer performs an aerial move with many others watch.  \n",
       "8                                                                                                                                                A family at a swimming pool.  \n",
       "9                                                                                                                    A man in blue shorts lays down outside in a parking lot.  \n",
       "10                                                                                                                     A play happening at a local high school football game.  \n",
       "11                                                                                                                         A polo player cradles a ball while riding a horse.  \n",
       "12                                                                                A photograph of a street with people walking and sitting, and businesses in the background.  \n",
       "13                                                                                                                          A man and two children are sleeping on the floor.  \n",
       "14                                                                                                                                  Brown dog with black collar licking nose.  \n",
       "15                                                                                               Woman eating a bowl of soup with chopsticks while selling raw slabs of meat.  \n",
       "16  One black female and one white female plus three white males, all wearing forms of black, in front of a concrete stair structure with other people sitting on the stairs.  \n",
       "17                                                                                              A skier in a blue outfit is skiing down the hill with a red pack on his back.  \n",
       "18                                                                                                      The gal wearing the black sunglasses and blue jean jacket is smiling.  \n",
       "19                                                                                                      The professor reading the names of students who have passed the exam.  "
      ]
     },
     "execution_count": 9,
     "metadata": {},
     "output_type": "execute_result"
    }
   ],
   "source": [
    "df = pd.DataFrame([(noisy_train_sentences[i], train_sentences[i]) for i in range(20)],\n",
    "                  columns=[\"noisy\", \"original\"])\n",
    "df"
   ]
  },
  {
   "cell_type": "code",
   "execution_count": 9,
   "metadata": {},
   "outputs": [],
   "source": [
    "model_name = \"bert-base-uncased\"\n",
    "MAX_LENGTH = 64"
   ]
  },
  {
   "cell_type": "code",
   "execution_count": 10,
   "metadata": {},
   "outputs": [],
   "source": [
    "tokenizer = BertTokenizerFast.from_pretrained(model_name)"
   ]
  },
  {
   "cell_type": "code",
   "execution_count": 11,
   "metadata": {},
   "outputs": [],
   "source": [
    "tokenized_original_texts = tokenizer(train_sentences, max_length=MAX_LENGTH,\n",
    "                                     padding=\"max_length\", truncation=True,\n",
    "                                     return_tensors=\"pt\")\n",
    "\n",
    "tokenized_noisy_texts = tokenizer(noisy_train_sentences, max_length=MAX_LENGTH,\n",
    "                                  padding=\"max_length\", truncation=True,\n",
    "                                  return_tensors=\"pt\")"
   ]
  },
  {
   "cell_type": "code",
   "execution_count": 13,
   "metadata": {},
   "outputs": [],
   "source": [
    "class NoisyDataset(Dataset):\n",
    "    def __init__(self, tokenized_original_texts: dict, tokenized_noisy_texts: dict):\n",
    "        self.tokenized_original_texts = tokenized_original_texts\n",
    "        self.tokenized_noisy_texts = tokenized_noisy_texts\n",
    "    \n",
    "    def __getitem__(self, ix: int) -> dict[str, torch.tensor]:\n",
    "        return {\"original_input_ids\": self.tokenized_original_texts[\"input_ids\"][ix],\n",
    "                \"original_attention_mask\": self.tokenized_original_texts[\"attention_mask\"][ix],\n",
    "                \"noisy_input_ids\": self.tokenized_noisy_texts[\"input_ids\"][ix],\n",
    "                \"noisy_attention_mask\": self.tokenized_noisy_texts[\"attention_mask\"][ix]}\n",
    "    \n",
    "    def __len__(self) -> int:\n",
    "        return len(self.tokenized_noisy_texts[\"input_ids\"])"
   ]
  },
  {
   "cell_type": "code",
   "execution_count": 14,
   "metadata": {},
   "outputs": [],
   "source": [
    "dataset = NoisyDataset(tokenized_original_texts, tokenized_noisy_texts)"
   ]
  },
  {
   "cell_type": "code",
   "execution_count": 15,
   "metadata": {},
   "outputs": [],
   "source": [
    "train_ratio = 0.9\n",
    "n_total = len(dataset)\n",
    "n_train = int(n_total * train_ratio)\n",
    "n_val = n_total - n_train\n",
    "\n",
    "train_dataset, val_dataset = random_split(dataset, [n_train, n_val])\n",
    "\n",
    "batch_size = 16\n",
    "train_dataloader = DataLoader(train_dataset, batch_size=batch_size, shuffle=True)\n",
    "val_dataloader = DataLoader(val_dataset, batch_size=batch_size, shuffle=False)"
   ]
  },
  {
   "cell_type": "code",
   "execution_count": 16,
   "metadata": {},
   "outputs": [
    {
     "data": {
      "text/plain": [
       "{'original_input_ids': tensor([[ 101, 1037, 3899,  ...,    0,    0,    0],\n",
       "         [ 101, 1037, 2177,  ...,    0,    0,    0],\n",
       "         [ 101, 1037, 4845,  ...,    0,    0,    0],\n",
       "         ...,\n",
       "         [ 101, 2195, 2402,  ...,    0,    0,    0],\n",
       "         [ 101, 2879, 4147,  ...,    0,    0,    0],\n",
       "         [ 101, 1037, 2810,  ...,    0,    0,    0]]),\n",
       " 'original_attention_mask': tensor([[1, 1, 1,  ..., 0, 0, 0],\n",
       "         [1, 1, 1,  ..., 0, 0, 0],\n",
       "         [1, 1, 1,  ..., 0, 0, 0],\n",
       "         ...,\n",
       "         [1, 1, 1,  ..., 0, 0, 0],\n",
       "         [1, 1, 1,  ..., 0, 0, 0],\n",
       "         [1, 1, 1,  ..., 0, 0, 0]]),\n",
       " 'noisy_input_ids': tensor([[  101,  1037,  3899,  ...,     0,     0,     0],\n",
       "         [  101,  1037,  2177,  ...,     0,     0,     0],\n",
       "         [  101,  4845,  3564,  ...,     0,     0,     0],\n",
       "         ...,\n",
       "         [  101,  3328, 20593,  ...,     0,     0,     0],\n",
       "         [  101,  4147,  3756,  ...,     0,     0,     0],\n",
       "         [  101,  2810,  7309,  ...,     0,     0,     0]]),\n",
       " 'noisy_attention_mask': tensor([[1, 1, 1,  ..., 0, 0, 0],\n",
       "         [1, 1, 1,  ..., 0, 0, 0],\n",
       "         [1, 1, 1,  ..., 0, 0, 0],\n",
       "         ...,\n",
       "         [1, 1, 1,  ..., 0, 0, 0],\n",
       "         [1, 1, 1,  ..., 0, 0, 0],\n",
       "         [1, 1, 1,  ..., 0, 0, 0]])}"
      ]
     },
     "execution_count": 16,
     "metadata": {},
     "output_type": "execute_result"
    }
   ],
   "source": [
    "next(iter(train_dataloader))"
   ]
  },
  {
   "cell_type": "markdown",
   "metadata": {},
   "source": [
    "## Model config\n",
    "\n",
    "Here we will setup out custom `DenoisingAutoEncoder` model as detailed in the diagram from the paper."
   ]
  },
  {
   "cell_type": "code",
   "execution_count": 17,
   "metadata": {},
   "outputs": [],
   "source": [
    "# sentence_transformers/losses/DenoisingAutoEncoderLoss.py\n",
    "\n",
    "class DenoisingAutoEncoder(torch.nn.Module):\n",
    "    def __init__(self, model_name: str, device: str=\"cuda\"):\n",
    "        super().__init__()\n",
    "        self.model_name = model_name\n",
    "        self.device = device\n",
    "        self.encoder = BertModel.from_pretrained(self.model_name)\n",
    "        \n",
    "        decoder_config = AutoConfig.from_pretrained(self.model_name)\n",
    "        decoder_config.is_decoder = True\n",
    "        decoder_config.add_cross_attention = True\n",
    "        kwargs_decoder = {'config': decoder_config}\n",
    "        self.decoder = AutoModelForCausalLM.from_pretrained(self.model_name, **kwargs_decoder)\n",
    "    \n",
    "    def forward(self, x: torch.tensor) -> tuple[torch.tensor, torch.tensor]:\n",
    "        x[\"noisy_input_ids\"] = x[\"noisy_input_ids\"].to(self.device)\n",
    "        x[\"noisy_attention_mask\"] = x[\"noisy_attention_mask\"].to(self.device)\n",
    "        x[\"original_input_ids\"] = x[\"original_input_ids\"].to(self.device)\n",
    "\n",
    "        pooled_embeddings = self.encoder(x[\"noisy_input_ids\"], x[\"noisy_attention_mask\"]).pooler_output\n",
    "        \n",
    "        original_length = x[\"original_input_ids\"].shape[1]\n",
    "        decoder_input_ids = x[\"original_input_ids\"].clone()[:, :original_length - 1]\n",
    "        label_ids = x[\"original_input_ids\"][:, 1:]\n",
    "\n",
    "        decoder_outputs = self.decoder(\n",
    "            input_ids=decoder_input_ids,\n",
    "            encoder_hidden_states=pooled_embeddings.unsqueeze(1),  # (bsz, hdim) -> (bsz, 1, hdim)\n",
    "            encoder_attention_mask=x[\"noisy_attention_mask\"][:, 0:1]\n",
    "        )\n",
    "\n",
    "        lm_logits = decoder_outputs[0]\n",
    "        return lm_logits, label_ids"
   ]
  },
  {
   "cell_type": "code",
   "execution_count": null,
   "metadata": {},
   "outputs": [],
   "source": [
    "device = \"cuda\" if torch.cuda.is_available() else \"cpu\""
   ]
  },
  {
   "cell_type": "code",
   "execution_count": 18,
   "metadata": {},
   "outputs": [
    {
     "name": "stderr",
     "output_type": "stream",
     "text": []
    }
   ],
   "source": [
    "model = DenoisingAutoEncoder(model_name, device)\n",
    "model = model.to(device)"
   ]
  },
  {
   "cell_type": "code",
   "execution_count": 19,
   "metadata": {},
   "outputs": [],
   "source": [
    "#  optimizer, lr, num_warmup steps have been picked from the paper\n",
    "optimizer = torch.optim.Adam(model.parameters(), lr=3e-5)\n",
    "total_steps = len(train_dataset) // batch_size\n",
    "warmup_steps = int(0.1 * total_steps)\n",
    "scheduler = get_linear_schedule_with_warmup(optimizer, num_warmup_steps=warmup_steps,\n",
    "                                            num_training_steps=total_steps - warmup_steps)\n",
    "\n",
    "loss_fn = torch.nn.CrossEntropyLoss(ignore_index=tokenizer.pad_token_id)"
   ]
  },
  {
   "cell_type": "markdown",
   "metadata": {},
   "source": [
    "## Training loop "
   ]
  },
  {
   "cell_type": "code",
   "execution_count": 20,
   "metadata": {},
   "outputs": [],
   "source": [
    "def get_train_step_fn(\n",
    "    model: torch.nn.Module, optimizer: torch.optim.Optimizer,\n",
    "    scheduler: torch.optim.lr_scheduler.LambdaLR, loss_fn: torch.nn.CrossEntropyLoss\n",
    ") -> Callable[[torch.tensor], float]:\n",
    "\n",
    "    def train_step_fn(x: torch.tensor) -> float:\n",
    "        model.train()\n",
    "        logits, label_ids = model(x)\n",
    "        loss = loss_fn(logits.view(-1, logits.shape[-1]), label_ids.reshape(-1))\n",
    "        loss.backward()\n",
    "        optimizer.step()\n",
    "        scheduler.step()\n",
    "        optimizer.zero_grad()\n",
    "        return loss.item()\n",
    "\n",
    "    return train_step_fn\n",
    "\n",
    "\n",
    "def get_val_step_fn(\n",
    "    model: torch.nn.Module, loss_fn: torch.nn.CrossEntropyLoss\n",
    ") -> Callable[[torch.tensor], float]:\n",
    "\n",
    "    def val_step_fn(x: torch.tensor) -> float:\n",
    "        model.eval()\n",
    "        logits = model(x)\n",
    "        logits, label_ids = model(x)\n",
    "        loss = loss_fn(logits.view(-1, logits.shape[-1]), label_ids.reshape(-1))\n",
    "        return loss.item()\n",
    "\n",
    "    return val_step_fn\n",
    "\n",
    "\n",
    "def mini_batch(\n",
    "    dataloader: DataLoader, step_fn: Callable[[torch.tensor], float], is_training: bool = True\n",
    ") -> tuple[np.array, list[float]]:\n",
    "\n",
    "    mini_batch_losses = []\n",
    "\n",
    "    if is_training:\n",
    "        print(\"\\nTraining ...\")\n",
    "    else:\n",
    "        print(\"\\nValidating ...\")\n",
    "    n_steps = len(dataloader)\n",
    "    for i, data in enumerate(dataloader):\n",
    "        loss = step_fn(data)\n",
    "        mini_batch_losses.append(loss)\n",
    "        if i % (batch_size * 50) == 0:\n",
    "            print(f\"step {i:>5}/{n_steps}, loss = {loss: .3f}\")\n",
    "\n",
    "    return np.mean(mini_batch_losses), mini_batch_losses"
   ]
  },
  {
   "cell_type": "code",
   "execution_count": 21,
   "metadata": {},
   "outputs": [
    {
     "name": "stdout",
     "output_type": "stream",
     "text": [
      "\n",
      "Epoch 1\n",
      "\n",
      "Training ...\n",
      "step     0/4363, loss =  9.710\n",
      "step   800/4363, loss =  3.500\n",
      "step  1600/4363, loss =  2.766\n",
      "step  2400/4363, loss =  2.966\n",
      "step  3200/4363, loss =  2.297\n",
      "step  4000/4363, loss =  2.226\n",
      "\n",
      "Validating ...\n",
      "step     0/485, loss =  2.409\n",
      "\n",
      "Epoch 2\n",
      "\n",
      "Training ...\n",
      "step     0/4363, loss =  2.402\n",
      "step   800/4363, loss =  2.225\n",
      "step  1600/4363, loss =  2.484\n",
      "step  2400/4363, loss =  2.481\n",
      "step  3200/4363, loss =  2.845\n",
      "step  4000/4363, loss =  2.321\n",
      "\n",
      "Validating ...\n",
      "step     0/485, loss =  2.409\n",
      "\n",
      "Epoch 3\n",
      "\n",
      "Training ...\n",
      "step     0/4363, loss =  2.360\n",
      "step   800/4363, loss =  2.684\n",
      "step  1600/4363, loss =  2.410\n",
      "step  2400/4363, loss =  2.713\n",
      "step  3200/4363, loss =  2.580\n",
      "step  4000/4363, loss =  2.776\n",
      "\n",
      "Validating ...\n",
      "step     0/485, loss =  2.409\n",
      "CPU times: user 24min 16s, sys: 6min 4s, total: 30min 20s\n",
      "Wall time: 30min 8s\n"
     ]
    }
   ],
   "source": [
    "%%time\n",
    "\n",
    "n_epochs = 3\n",
    "\n",
    "train_step_fn = get_train_step_fn(model, optimizer, scheduler, loss_fn)\n",
    "val_step_fn = get_val_step_fn(model, loss_fn)\n",
    "\n",
    "train_losses, train_mini_batch_losses = [], []\n",
    "val_losses, val_mini_batch_losses = [], []\n",
    "\n",
    "for epoch in range(1, n_epochs + 1):\n",
    "    print(f\"\\nEpoch {epoch}\")\n",
    "    train_loss, _train_mini_batch_losses = mini_batch(train_dataloader, train_step_fn)\n",
    "    train_mini_batch_losses += _train_mini_batch_losses\n",
    "    train_losses.append(train_loss)\n",
    "\n",
    "    with torch.no_grad():\n",
    "        val_loss, _val_mini_batch_losses = mini_batch(val_dataloader, val_step_fn, is_training=False)\n",
    "        val_mini_batch_losses += _val_mini_batch_losses\n",
    "        val_losses.append(val_loss)"
   ]
  },
  {
   "cell_type": "markdown",
   "metadata": {},
   "source": [
    "Normally we look at losses over multiple epochs, but here we have only 3 epochs. One way to look at the mini batch losses is to use a running mean(smoothing) to reduce noise from per batch loss."
   ]
  },
  {
   "cell_type": "code",
   "execution_count": 22,
   "metadata": {},
   "outputs": [],
   "source": [
    "window_size = 32\n",
    "\n",
    "train_mb_running_loss = []\n",
    "for i in range(len(train_mini_batch_losses)-window_size):\n",
    "    train_mb_running_loss.append(np.mean(train_mini_batch_losses[i:i+window_size]))\n",
    "\n",
    "val_mb_running_loss = []\n",
    "for i in range(len(val_mini_batch_losses)-window_size):\n",
    "    val_mb_running_loss.append(np.mean(val_mini_batch_losses[i:i+window_size]))"
   ]
  },
  {
   "cell_type": "code",
   "execution_count": 23,
   "metadata": {},
   "outputs": [
    {
     "data": {
      "image/png": "[encoded data removed]",
      "text/plain": [
       "<Figure size 1008x720 with 1 Axes>"
      ]
     },
     "metadata": {
      "needs_background": "light"
     },
     "output_type": "display_data"
    }
   ],
   "source": [
    "fix, ax = plt.subplots(figsize=(14, 10))\n",
    "n_train_losses = len(train_mb_running_loss)\n",
    "ax.plot(range(n_train_losses), train_mb_running_loss, label=\"training losses\");\n",
    "ax.plot(range(n_train_losses-len(val_mb_running_loss), n_train_losses),\n",
    "        val_mb_running_loss, c=\"r\", alpha=0.5, label=\"validation losses\")\n",
    "ax.legend();"
   ]
  },
  {
   "cell_type": "markdown",
   "metadata": {},
   "source": [
    "## Evaluation\n",
    "\n",
    "We will evaluate the trained model on a STS dataset. We will compare the finetuned model and the bert-base model. "
   ]
  },
  {
   "cell_type": "code",
   "execution_count": 24,
   "metadata": {},
   "outputs": [
    {
     "name": "stderr",
     "output_type": "stream",
     "text": [
      "Reusing dataset glue (/home/utsav/.cache/huggingface/datasets/glue/stsb/1.0.0/dacbe3125aa31d7f70367a07a8a9e72a5a0bfeb5fc42e75c9db75b96da6053ad)\n"
     ]
    },
    {
     "data": {
      "text/plain": [
       "(1500,\n",
       " {'sentence1': 'A man with a hard hat is dancing.',\n",
       "  'sentence2': 'A man wearing a hard hat is dancing.',\n",
       "  'label': 5.0,\n",
       "  'idx': 0})"
      ]
     },
     "execution_count": 24,
     "metadata": {},
     "output_type": "execute_result"
    }
   ],
   "source": [
    "sts = hf_datasets.load_dataset(\"glue\", \"stsb\", split=\"validation\")\n",
    "len(sts), sts[0]"
   ]
  },
  {
   "cell_type": "code",
   "execution_count": 25,
   "metadata": {},
   "outputs": [],
   "source": [
    "sentence1s = [data[\"sentence1\"] for data in sts]\n",
    "sentence2s = [data[\"sentence2\"] for data in sts]\n",
    "normalized_labels = [data[\"label\"] / 5 for data in sts]"
   ]
  },
  {
   "cell_type": "code",
   "execution_count": 26,
   "metadata": {},
   "outputs": [],
   "source": [
    "def encode(\n",
    "    input_texts: list[str], tokenizer: BertTokenizerFast, model: BertModel, device: str = \"cpu\"\n",
    ") -> torch.tensor:\n",
    "\n",
    "    model.eval()\n",
    "    tokenized_texts = tokenizer(input_texts, max_length=MAX_LENGTH,\n",
    "                                padding='max_length', truncation=True, return_tensors=\"pt\")\n",
    "    pooled_embeds = model(tokenized_texts[\"input_ids\"].to(device),\n",
    "                          tokenized_texts[\"attention_mask\"].to(device)).pooler_output\n",
    "    return pooled_embeds"
   ]
  },
  {
   "cell_type": "code",
   "execution_count": 36,
   "metadata": {},
   "outputs": [],
   "source": [
    "def cos_sim_in_batches(\n",
    "    batch_size: int, s1_texts: list[str], s2_texts: list[str],\n",
    "    tokenizer: BertTokenizerFast, model: BertModel,\n",
    "    cos_sim_f: Callable[[torch.tensor, torch.tensor], torch.tensor],\n",
    "    device: str = \"cuda\"\n",
    ") -> torch.tensor:\n",
    "\n",
    "    cos_sims = None\n",
    "    n_batches = len(s1_texts) // batch_size + int(len(s1_texts) % batch_size != 0)\n",
    "    for i in range(n_batches):\n",
    "        s1_batch = s1_texts[i*batch_size: (i+1)*batch_size]\n",
    "        s2_batch = s2_texts[i*batch_size: (i+1)*batch_size]\n",
    "        if i == 0:\n",
    "            cos_sims = cos_sim_f(encode(s1_batch, tokenizer, model, device).detach(),\n",
    "                                 encode(s2_batch, tokenizer, model, device).detach())\n",
    "        else:\n",
    "            _cos_sims = cos_sim_f(encode(s1_batch, tokenizer, model, device).detach(),\n",
    "                                  encode(s2_batch, tokenizer, model, device).detach())\n",
    "            cos_sims = torch.cat([cos_sims, _cos_sims])\n",
    "    \n",
    "    return cos_sims"
   ]
  },
  {
   "cell_type": "code",
   "execution_count": 28,
   "metadata": {},
   "outputs": [],
   "source": [
    "cos_sim_f = torch.nn.CosineSimilarity()\n",
    "sbert_cos_sims = cos_sim_in_batches(16, sentence1s, sentence2s, tokenizer, model.encoder, cos_sim_f)"
   ]
  },
  {
   "cell_type": "code",
   "execution_count": 29,
   "metadata": {},
   "outputs": [
    {
     "data": {
      "text/plain": [
       "SpearmanrResult(correlation=0.6562854102049397, pvalue=1.742454940612208e-185)"
      ]
     },
     "execution_count": 29,
     "metadata": {},
     "output_type": "execute_result"
    }
   ],
   "source": [
    "stats.spearmanr(sbert_cos_sims.cpu().detach().numpy(), np.array(normalized_labels))"
   ]
  },
  {
   "cell_type": "code",
   "execution_count": 58,
   "metadata": {},
   "outputs": [
    {
     "name": "stderr",
     "output_type": "stream",
     "text": [
      "Some weights of the model checkpoint at bert-base-uncased were not used when initializing BertModel: ['cls.predictions.bias', 'cls.predictions.decoder.weight', 'cls.seq_relationship.weight', 'cls.predictions.transform.dense.weight', 'cls.predictions.transform.LayerNorm.bias', 'cls.predictions.transform.dense.bias', 'cls.seq_relationship.bias', 'cls.predictions.transform.LayerNorm.weight']\n",
      "- This IS expected if you are initializing BertModel from the checkpoint of a model trained on another task or with another architecture (e.g. initializing a BertForSequenceClassification model from a BertForPreTraining model).\n",
      "- This IS NOT expected if you are initializing BertModel from the checkpoint of a model that you expect to be exactly identical (initializing a BertForSequenceClassification model from a BertForSequenceClassification model).\n"
     ]
    }
   ],
   "source": [
    "bert_model = BertModel.from_pretrained(model_name)"
   ]
  },
  {
   "cell_type": "code",
   "execution_count": 39,
   "metadata": {},
   "outputs": [
    {
     "data": {
      "text/plain": [
       "SpearmanrResult(correlation=0.15565973492337204, pvalue=1.3559203499038571e-09)"
      ]
     },
     "execution_count": 39,
     "metadata": {},
     "output_type": "execute_result"
    }
   ],
   "source": [
    "bert_cos_sims = cos_sim_in_batches(16, sentence1s, sentence2s, tokenizer, bert_model, cos_sim_f, \"cpu\")\n",
    "stats.spearmanr(bert_cos_sims.cpu().detach().numpy(), np.array(normalized_labels))"
   ]
  },
  {
   "cell_type": "markdown",
   "metadata": {},
   "source": [
    "Our unsupervised finetuned model is doing much better on this semantic similarity dataset as compared to the bert-base model. It's not performing as good as the supervised training we did for Bi and Cross encoders(where we saw average spearman rank correlation of ~0.80) but that's to be expected.\n",
    "\n",
    "** Note that we achieve .74 spearman rank correlation(vs 0.66 here) in the previous notebook, using all the utils from sbert for training. Here we are using a different scheduler, but there might be other factors affecting our score which I'm not sure about.\n",
    "\n",
    "Let's look how this model can be used for retrieval tasks."
   ]
  },
  {
   "cell_type": "code",
   "execution_count": 106,
   "metadata": {},
   "outputs": [],
   "source": [
    "def get_ranked_docs(\n",
    "    model: BertModel, query: str, corpus_emebds: np.array, device: str=\"cuda\"\n",
    ") -> None:\n",
    "    tokenized_query = tokenizer(query, max_length=MAX_LENGTH,\n",
    "                                padding=\"max_length\", truncation=True,\n",
    "                                return_tensors=\"pt\")\n",
    "    query_embed = model(**tokenized_query.to(device)).pooler_output\n",
    "    scores = util.cos_sim(query_embed, corpus_embeds)\n",
    "    print(f\"Query - {query}\\n---\")\n",
    "    scores = scores.cpu().detach().numpy()[0]\n",
    "    scores_ix = np.argsort(scores)[::-1]\n",
    "    for ix in scores_ix:\n",
    "        print(f\"{scores[ix]: >.2f}\\t{corpus[ix]}\")"
   ]
  },
  {
   "cell_type": "code",
   "execution_count": 107,
   "metadata": {},
   "outputs": [],
   "source": [
    "corpus = [\n",
    "    \"A man is eating food.\",\n",
    "    \"A man is eating a piece of bread.\",\n",
    "    \"The girl is carrying a baby.\",\n",
    "    \"A man is riding a horse.\",\n",
    "    \"A woman is playing violin.\",\n",
    "    \"Two men pushed carts through the woods.\",\n",
    "    \"A man is riding a white horse on an enclosed ground.\",\n",
    "    \"A monkey is playing drums.\",\n",
    "    \"A cheetah is running behind its prey.\"\n",
    "]\n",
    "\n",
    "query = \"A man is eating pasta.\""
   ]
  },
  {
   "cell_type": "code",
   "execution_count": 108,
   "metadata": {},
   "outputs": [],
   "source": [
    "tokenized_corpus = tokenizer(corpus, max_length=MAX_LENGTH,\n",
    "                             padding=\"max_length\", truncation=True,\n",
    "                             return_tensors=\"pt\")"
   ]
  },
  {
   "cell_type": "code",
   "execution_count": 109,
   "metadata": {},
   "outputs": [
    {
     "name": "stdout",
     "output_type": "stream",
     "text": [
      "Query - A man is eating pasta.\n",
      "---\n",
      "0.81\tA man is eating food.\n",
      "0.76\tA man is eating a piece of bread.\n",
      "0.49\tA man is riding a white horse on an enclosed ground.\n",
      "0.48\tA man is riding a horse.\n",
      "0.43\tA woman is playing violin.\n",
      "0.33\tA monkey is playing drums.\n",
      "0.13\tA cheetah is running behind its prey.\n",
      "0.02\tTwo men pushed carts through the woods.\n",
      "0.02\tThe girl is carrying a baby.\n"
     ]
    }
   ],
   "source": [
    "corpus_embeds = model.encoder(**tokenized_corpus.to(\"cuda\")).pooler_output\n",
    "get_ranked_docs(model.encoder, query, corpus_embeds, \"cuda\")"
   ]
  },
  {
   "cell_type": "code",
   "execution_count": 110,
   "metadata": {},
   "outputs": [
    {
     "name": "stdout",
     "output_type": "stream",
     "text": [
      "Query - A man is eating pasta.\n",
      "---\n",
      "1.00\tA man is eating a piece of bread.\n",
      "1.00\tA woman is playing violin.\n",
      "1.00\tA man is riding a horse.\n",
      "1.00\tA monkey is playing drums.\n",
      "0.99\tA man is riding a white horse on an enclosed ground.\n",
      "0.99\tThe girl is carrying a baby.\n",
      "0.99\tA man is eating food.\n",
      "0.98\tTwo men pushed carts through the woods.\n",
      "0.97\tA cheetah is running behind its prey.\n"
     ]
    }
   ],
   "source": [
    "corpus_embeds = bert_model(**tokenized_corpus.to(\"cpu\")).pooler_output\n",
    "get_ranked_docs(bert_model, query, corpus_embeds, \"cpu\")"
   ]
  },
  {
   "cell_type": "code",
   "execution_count": 111,
   "metadata": {},
   "outputs": [],
   "source": [
    "corpus = [\n",
    "    \"A man is eating food.\",\n",
    "    \"A man is eating a piece of bread.\",\n",
    "    \"A woman is playing violin.\",\n",
    "    \"Two men pushed carts through the woods.\",\n",
    "    \"A woman is practicing jumps with her horse.\",\n",
    "    \"A horse is running around the track.\"\n",
    "]\n",
    "\n",
    "query = \"Horse jumped over the obstacle.\""
   ]
  },
  {
   "cell_type": "code",
   "execution_count": 112,
   "metadata": {},
   "outputs": [],
   "source": [
    "tokenized_corpus = tokenizer(corpus, max_length=MAX_LENGTH,\n",
    "                             padding=\"max_length\", truncation=True,\n",
    "                             return_tensors=\"pt\")"
   ]
  },
  {
   "cell_type": "code",
   "execution_count": 113,
   "metadata": {},
   "outputs": [
    {
     "name": "stdout",
     "output_type": "stream",
     "text": [
      "Query - Horse jumped over the obstacle.\n",
      "---\n",
      "0.60\tA horse is running around the track.\n",
      "0.45\tA woman is practicing jumps with her horse.\n",
      "0.27\tTwo men pushed carts through the woods.\n",
      "0.12\tA man is eating food.\n",
      "0.10\tA man is eating a piece of bread.\n",
      "-0.02\tA woman is playing violin.\n"
     ]
    }
   ],
   "source": [
    "corpus_embeds = model.encoder(**tokenized_corpus.to(device)).pooler_output\n",
    "get_ranked_docs(model.encoder, query, corpus_embeds, \"cuda\")"
   ]
  },
  {
   "cell_type": "code",
   "execution_count": 114,
   "metadata": {},
   "outputs": [
    {
     "name": "stdout",
     "output_type": "stream",
     "text": [
      "Query - Horse jumped over the obstacle.\n",
      "---\n",
      "0.98\tTwo men pushed carts through the woods.\n",
      "0.98\tA horse is running around the track.\n",
      "0.98\tA man is eating food.\n",
      "0.97\tA woman is playing violin.\n",
      "0.96\tA man is eating a piece of bread.\n",
      "0.95\tA woman is practicing jumps with her horse.\n"
     ]
    }
   ],
   "source": [
    "corpus_embeds = bert_model(**tokenized_corpus.to(\"cpu\")).pooler_output\n",
    "get_ranked_docs(bert_model, query, corpus_embeds, \"cpu\")"
   ]
  },
  {
   "cell_type": "markdown",
   "metadata": {},
   "source": [
    "---\n",
    "\n",
    "## References\n",
    "\n",
    "[1] Kexin Wang, Nils Reimers and Iryna Gurevych. \"[TSDAE: Using Transformer-based Sequential Denoising Auto-Encoder for Unsupervised Sentence Embedding Learning](https://arxiv.org/pdf/2104.06979.pdf)\"\n",
    "\n",
    "[2] https://github.com/UKPLab/sentence-transformers\n",
    "\n",
    "[3] [BIER benchmark](https://arxiv.org/abs/2104.08663)"
   ]
  }
 ],
 "metadata": {
  "kernelspec": {
   "display_name": "Python 3",
   "language": "python",
   "name": "python3"
  },
  "language_info": {
   "codemirror_mode": {
    "name": "ipython",
    "version": 3
   },
   "file_extension": ".py",
   "mimetype": "text/x-python",
   "name": "python",
   "nbconvert_exporter": "python",
   "pygments_lexer": "ipython3",
   "version": "3.8.5"
  }
 },
 "nbformat": 4,
 "nbformat_minor": 5
}
